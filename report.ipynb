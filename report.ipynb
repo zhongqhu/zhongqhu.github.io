{
  "cells": [
    {
      "cell_type": "markdown",
      "source": [
        "This jupyter notebook is a report of my key discoveries and conclusions. To successfully run all the codes, please add the [sp500.h5](https://drive.google.com/file/d/1uPPN3GYKG_DnkeQbQRYMyFvgLmrcvBFZ/view?usp=sharing) file to such a path: /content/drive/MyDrive/sp500.h5"
      ],
      "metadata": {
        "id": "0rc5BH8LzMAy"
      }
    },
    {
      "cell_type": "markdown",
      "metadata": {
        "id": "mfIMtw6BaiO1"
      },
      "source": [
        "## Part 0. Load data"
      ]
    },
    {
      "cell_type": "markdown",
      "source": [
        "First, we install the package *tables* for reading *hdf* files."
      ],
      "metadata": {
        "id": "10lG48YR_VV_"
      }
    },
    {
      "cell_type": "code",
      "source": [
        "!pip install tables"
      ],
      "metadata": {
        "id": "QIjA3gd_bBza",
        "colab": {
          "base_uri": "https://localhost:8080/"
        },
        "outputId": "a49f8393-a031-4d00-aec9-7a2a3f16223b"
      },
      "execution_count": 1,
      "outputs": [
        {
          "output_type": "stream",
          "name": "stdout",
          "text": [
            "Looking in indexes: https://pypi.org/simple, https://us-python.pkg.dev/colab-wheels/public/simple/\n",
            "Requirement already satisfied: tables in /usr/local/lib/python3.7/dist-packages (3.7.0)\n",
            "Requirement already satisfied: packaging in /usr/local/lib/python3.7/dist-packages (from tables) (21.3)\n",
            "Requirement already satisfied: numexpr>=2.6.2 in /usr/local/lib/python3.7/dist-packages (from tables) (2.8.4)\n",
            "Requirement already satisfied: numpy>=1.19.0 in /usr/local/lib/python3.7/dist-packages (from tables) (1.21.6)\n",
            "Requirement already satisfied: pyparsing!=3.0.5,>=2.0.2 in /usr/local/lib/python3.7/dist-packages (from packaging->tables) (3.0.9)\n"
          ]
        }
      ]
    },
    {
      "cell_type": "markdown",
      "source": [
        "Then, we import the packages that are useful throughout the project."
      ],
      "metadata": {
        "id": "9DGl04Ia_q00"
      }
    },
    {
      "cell_type": "code",
      "source": [
        "from google.colab import drive\n",
        "import pandas as pd\n",
        "import numpy as np\n",
        "import matplotlib.pyplot as plt\n",
        "import statsmodels.formula.api as sm\n",
        "from tqdm import tqdm\n",
        "import torch\n",
        "import torch.nn as nn\n",
        "import torch.nn.functional as F\n",
        "import torch.optim as optim\n",
        "import torch.utils.data as data_utils\n",
        "from torch.nn.utils.rnn import pack_padded_sequence, pad_packed_sequence\n",
        "import copy\n",
        "import os"
      ],
      "metadata": {
        "id": "we_EQL0a_zcW"
      },
      "execution_count": 2,
      "outputs": []
    },
    {
      "cell_type": "markdown",
      "source": [
        "We read the *hdf* file and print it out."
      ],
      "metadata": {
        "id": "VbT94143AO8D"
      }
    },
    {
      "cell_type": "code",
      "execution_count": 3,
      "metadata": {
        "id": "qQ5S72eoaiuA",
        "colab": {
          "base_uri": "https://localhost:8080/",
          "height": 473
        },
        "outputId": "95d1a584-32eb-4789-8193-04e74e8f8dca"
      },
      "outputs": [
        {
          "output_type": "stream",
          "name": "stdout",
          "text": [
            "Mounted at /content/drive\n"
          ]
        },
        {
          "output_type": "execute_result",
          "data": {
            "text/plain": [
              "                  price_adj  price_close  price_open  price_high   price_low  \\\n",
              "date       uspn                                                                \n",
              "2000-01-04 A      40.910591    47.567955   48.730328   49.266811   46.316166   \n",
              "           AAPL    3.177650     3.660714    3.866071    3.950893    3.613839   \n",
              "           ABC     2.791193     3.625000    3.687500    3.703125    3.500000   \n",
              "           ABMD   17.812500    17.812500   18.500000   18.500000   17.000000   \n",
              "           ABT     6.377004    15.262630   15.459024   15.599305   15.150405   \n",
              "...                     ...          ...         ...         ...         ...   \n",
              "2019-12-31 XYL    78.547081    78.790001   78.870003   79.120003   78.239998   \n",
              "           YUM   100.280571   100.730003  100.669998  101.169998  100.230003   \n",
              "           ZBH   149.308990   149.679993  148.289993  149.710007  148.289993   \n",
              "           ZION   51.538563    51.919998   51.610001   52.040001   51.610001   \n",
              "           ZTS   131.945450   132.350006  132.009995  132.580002  131.449997   \n",
              "\n",
              "                      volume  sp_weight   ret_raw  \n",
              "date       uspn                                    \n",
              "2000-01-04 A       4765000.0   0.096007 -0.076389  \n",
              "           AAPL  128094400.0   3.851850 -0.084310  \n",
              "           ABC      944000.0   0.051664 -0.068273  \n",
              "           ABMD      34400.0   0.032319 -0.023973  \n",
              "           ABT    10734600.0   0.598686 -0.028572  \n",
              "...                      ...        ...       ...  \n",
              "2019-12-31 XYL      492000.0   0.057616  0.000635  \n",
              "           YUM     1271000.0   0.139869  0.000894  \n",
              "           ZBH      612400.0   0.112949  0.006252  \n",
              "           ZION    1246900.0   0.032859  0.002897  \n",
              "           ZTS     1128600.0   0.240081  0.001059  \n",
              "\n",
              "[2250490 rows x 8 columns]"
            ],
            "text/html": [
              "\n",
              "  <div id=\"df-c284bac4-6ebf-42de-a6ca-e04ded127e76\">\n",
              "    <div class=\"colab-df-container\">\n",
              "      <div>\n",
              "<style scoped>\n",
              "    .dataframe tbody tr th:only-of-type {\n",
              "        vertical-align: middle;\n",
              "    }\n",
              "\n",
              "    .dataframe tbody tr th {\n",
              "        vertical-align: top;\n",
              "    }\n",
              "\n",
              "    .dataframe thead th {\n",
              "        text-align: right;\n",
              "    }\n",
              "</style>\n",
              "<table border=\"1\" class=\"dataframe\">\n",
              "  <thead>\n",
              "    <tr style=\"text-align: right;\">\n",
              "      <th></th>\n",
              "      <th></th>\n",
              "      <th>price_adj</th>\n",
              "      <th>price_close</th>\n",
              "      <th>price_open</th>\n",
              "      <th>price_high</th>\n",
              "      <th>price_low</th>\n",
              "      <th>volume</th>\n",
              "      <th>sp_weight</th>\n",
              "      <th>ret_raw</th>\n",
              "    </tr>\n",
              "    <tr>\n",
              "      <th>date</th>\n",
              "      <th>uspn</th>\n",
              "      <th></th>\n",
              "      <th></th>\n",
              "      <th></th>\n",
              "      <th></th>\n",
              "      <th></th>\n",
              "      <th></th>\n",
              "      <th></th>\n",
              "      <th></th>\n",
              "    </tr>\n",
              "  </thead>\n",
              "  <tbody>\n",
              "    <tr>\n",
              "      <th rowspan=\"5\" valign=\"top\">2000-01-04</th>\n",
              "      <th>A</th>\n",
              "      <td>40.910591</td>\n",
              "      <td>47.567955</td>\n",
              "      <td>48.730328</td>\n",
              "      <td>49.266811</td>\n",
              "      <td>46.316166</td>\n",
              "      <td>4765000.0</td>\n",
              "      <td>0.096007</td>\n",
              "      <td>-0.076389</td>\n",
              "    </tr>\n",
              "    <tr>\n",
              "      <th>AAPL</th>\n",
              "      <td>3.177650</td>\n",
              "      <td>3.660714</td>\n",
              "      <td>3.866071</td>\n",
              "      <td>3.950893</td>\n",
              "      <td>3.613839</td>\n",
              "      <td>128094400.0</td>\n",
              "      <td>3.851850</td>\n",
              "      <td>-0.084310</td>\n",
              "    </tr>\n",
              "    <tr>\n",
              "      <th>ABC</th>\n",
              "      <td>2.791193</td>\n",
              "      <td>3.625000</td>\n",
              "      <td>3.687500</td>\n",
              "      <td>3.703125</td>\n",
              "      <td>3.500000</td>\n",
              "      <td>944000.0</td>\n",
              "      <td>0.051664</td>\n",
              "      <td>-0.068273</td>\n",
              "    </tr>\n",
              "    <tr>\n",
              "      <th>ABMD</th>\n",
              "      <td>17.812500</td>\n",
              "      <td>17.812500</td>\n",
              "      <td>18.500000</td>\n",
              "      <td>18.500000</td>\n",
              "      <td>17.000000</td>\n",
              "      <td>34400.0</td>\n",
              "      <td>0.032319</td>\n",
              "      <td>-0.023973</td>\n",
              "    </tr>\n",
              "    <tr>\n",
              "      <th>ABT</th>\n",
              "      <td>6.377004</td>\n",
              "      <td>15.262630</td>\n",
              "      <td>15.459024</td>\n",
              "      <td>15.599305</td>\n",
              "      <td>15.150405</td>\n",
              "      <td>10734600.0</td>\n",
              "      <td>0.598686</td>\n",
              "      <td>-0.028572</td>\n",
              "    </tr>\n",
              "    <tr>\n",
              "      <th>...</th>\n",
              "      <th>...</th>\n",
              "      <td>...</td>\n",
              "      <td>...</td>\n",
              "      <td>...</td>\n",
              "      <td>...</td>\n",
              "      <td>...</td>\n",
              "      <td>...</td>\n",
              "      <td>...</td>\n",
              "      <td>...</td>\n",
              "    </tr>\n",
              "    <tr>\n",
              "      <th rowspan=\"5\" valign=\"top\">2019-12-31</th>\n",
              "      <th>XYL</th>\n",
              "      <td>78.547081</td>\n",
              "      <td>78.790001</td>\n",
              "      <td>78.870003</td>\n",
              "      <td>79.120003</td>\n",
              "      <td>78.239998</td>\n",
              "      <td>492000.0</td>\n",
              "      <td>0.057616</td>\n",
              "      <td>0.000635</td>\n",
              "    </tr>\n",
              "    <tr>\n",
              "      <th>YUM</th>\n",
              "      <td>100.280571</td>\n",
              "      <td>100.730003</td>\n",
              "      <td>100.669998</td>\n",
              "      <td>101.169998</td>\n",
              "      <td>100.230003</td>\n",
              "      <td>1271000.0</td>\n",
              "      <td>0.139869</td>\n",
              "      <td>0.000894</td>\n",
              "    </tr>\n",
              "    <tr>\n",
              "      <th>ZBH</th>\n",
              "      <td>149.308990</td>\n",
              "      <td>149.679993</td>\n",
              "      <td>148.289993</td>\n",
              "      <td>149.710007</td>\n",
              "      <td>148.289993</td>\n",
              "      <td>612400.0</td>\n",
              "      <td>0.112949</td>\n",
              "      <td>0.006252</td>\n",
              "    </tr>\n",
              "    <tr>\n",
              "      <th>ZION</th>\n",
              "      <td>51.538563</td>\n",
              "      <td>51.919998</td>\n",
              "      <td>51.610001</td>\n",
              "      <td>52.040001</td>\n",
              "      <td>51.610001</td>\n",
              "      <td>1246900.0</td>\n",
              "      <td>0.032859</td>\n",
              "      <td>0.002897</td>\n",
              "    </tr>\n",
              "    <tr>\n",
              "      <th>ZTS</th>\n",
              "      <td>131.945450</td>\n",
              "      <td>132.350006</td>\n",
              "      <td>132.009995</td>\n",
              "      <td>132.580002</td>\n",
              "      <td>131.449997</td>\n",
              "      <td>1128600.0</td>\n",
              "      <td>0.240081</td>\n",
              "      <td>0.001059</td>\n",
              "    </tr>\n",
              "  </tbody>\n",
              "</table>\n",
              "<p>2250490 rows × 8 columns</p>\n",
              "</div>\n",
              "      <button class=\"colab-df-convert\" onclick=\"convertToInteractive('df-c284bac4-6ebf-42de-a6ca-e04ded127e76')\"\n",
              "              title=\"Convert this dataframe to an interactive table.\"\n",
              "              style=\"display:none;\">\n",
              "        \n",
              "  <svg xmlns=\"http://www.w3.org/2000/svg\" height=\"24px\"viewBox=\"0 0 24 24\"\n",
              "       width=\"24px\">\n",
              "    <path d=\"M0 0h24v24H0V0z\" fill=\"none\"/>\n",
              "    <path d=\"M18.56 5.44l.94 2.06.94-2.06 2.06-.94-2.06-.94-.94-2.06-.94 2.06-2.06.94zm-11 1L8.5 8.5l.94-2.06 2.06-.94-2.06-.94L8.5 2.5l-.94 2.06-2.06.94zm10 10l.94 2.06.94-2.06 2.06-.94-2.06-.94-.94-2.06-.94 2.06-2.06.94z\"/><path d=\"M17.41 7.96l-1.37-1.37c-.4-.4-.92-.59-1.43-.59-.52 0-1.04.2-1.43.59L10.3 9.45l-7.72 7.72c-.78.78-.78 2.05 0 2.83L4 21.41c.39.39.9.59 1.41.59.51 0 1.02-.2 1.41-.59l7.78-7.78 2.81-2.81c.8-.78.8-2.07 0-2.86zM5.41 20L4 18.59l7.72-7.72 1.47 1.35L5.41 20z\"/>\n",
              "  </svg>\n",
              "      </button>\n",
              "      \n",
              "  <style>\n",
              "    .colab-df-container {\n",
              "      display:flex;\n",
              "      flex-wrap:wrap;\n",
              "      gap: 12px;\n",
              "    }\n",
              "\n",
              "    .colab-df-convert {\n",
              "      background-color: #E8F0FE;\n",
              "      border: none;\n",
              "      border-radius: 50%;\n",
              "      cursor: pointer;\n",
              "      display: none;\n",
              "      fill: #1967D2;\n",
              "      height: 32px;\n",
              "      padding: 0 0 0 0;\n",
              "      width: 32px;\n",
              "    }\n",
              "\n",
              "    .colab-df-convert:hover {\n",
              "      background-color: #E2EBFA;\n",
              "      box-shadow: 0px 1px 2px rgba(60, 64, 67, 0.3), 0px 1px 3px 1px rgba(60, 64, 67, 0.15);\n",
              "      fill: #174EA6;\n",
              "    }\n",
              "\n",
              "    [theme=dark] .colab-df-convert {\n",
              "      background-color: #3B4455;\n",
              "      fill: #D2E3FC;\n",
              "    }\n",
              "\n",
              "    [theme=dark] .colab-df-convert:hover {\n",
              "      background-color: #434B5C;\n",
              "      box-shadow: 0px 1px 3px 1px rgba(0, 0, 0, 0.15);\n",
              "      filter: drop-shadow(0px 1px 2px rgba(0, 0, 0, 0.3));\n",
              "      fill: #FFFFFF;\n",
              "    }\n",
              "  </style>\n",
              "\n",
              "      <script>\n",
              "        const buttonEl =\n",
              "          document.querySelector('#df-c284bac4-6ebf-42de-a6ca-e04ded127e76 button.colab-df-convert');\n",
              "        buttonEl.style.display =\n",
              "          google.colab.kernel.accessAllowed ? 'block' : 'none';\n",
              "\n",
              "        async function convertToInteractive(key) {\n",
              "          const element = document.querySelector('#df-c284bac4-6ebf-42de-a6ca-e04ded127e76');\n",
              "          const dataTable =\n",
              "            await google.colab.kernel.invokeFunction('convertToInteractive',\n",
              "                                                     [key], {});\n",
              "          if (!dataTable) return;\n",
              "\n",
              "          const docLinkHtml = 'Like what you see? Visit the ' +\n",
              "            '<a target=\"_blank\" href=https://colab.research.google.com/notebooks/data_table.ipynb>data table notebook</a>'\n",
              "            + ' to learn more about interactive tables.';\n",
              "          element.innerHTML = '';\n",
              "          dataTable['output_type'] = 'display_data';\n",
              "          await google.colab.output.renderOutput(dataTable, element);\n",
              "          const docLink = document.createElement('div');\n",
              "          docLink.innerHTML = docLinkHtml;\n",
              "          element.appendChild(docLink);\n",
              "        }\n",
              "      </script>\n",
              "    </div>\n",
              "  </div>\n",
              "  "
            ]
          },
          "metadata": {},
          "execution_count": 3
        }
      ],
      "source": [
        "drive.mount('/content/drive')\n",
        "ori_data = pd.read_hdf('/content/drive/MyDrive/sp500.h5')\n",
        "ori_data"
      ]
    },
    {
      "cell_type": "markdown",
      "source": [
        "## Part 1. Naive Method: Exponential Weighted Moving Average"
      ],
      "metadata": {
        "id": "CPoS_XfJTP04"
      }
    },
    {
      "cell_type": "markdown",
      "source": [
        "We define a *EWMA* (Exponential Weighted Moving Average) class to predict the volume of the *t*th day for each stock, based on the exponentially-decaying weighted average of the first *t-1* days' volumes.   "
      ],
      "metadata": {
        "id": "jnu2yttkAhue"
      }
    },
    {
      "cell_type": "code",
      "source": [
        "# Exponential Weighted Moving Average\n",
        "class EWMA:\n",
        "  def __init__(self, halftime=60):\n",
        "    self.halftime = halftime\n",
        "  \n",
        "  def predict(self, ori_data):\n",
        "    # input: data, (num_dates, num_stocks)\n",
        "    # output: pred, (num_dates, num_stocks)\n",
        "\n",
        "    data = ori_data['volume'].unstack().sort_index(axis=1).to_numpy() # (num_stocks, num_dates)\n",
        "    num_dates, num_stocks = data.shape\n",
        "    \n",
        "    # weights: [num_dates, num_dates] triangle matrix\n",
        "    weights = np.zeros((num_dates, num_dates))\n",
        "    for day in range(num_dates):\n",
        "      weight = np.logspace(day, 0, day+1, base=0.5**(1./self.halftime))\n",
        "      weight = weight / np.sum(weight)\n",
        "      weights[day, :(day+1)] = weight\n",
        "\n",
        "    # move all nan to the bottom and replace them by zeros\n",
        "    rows, columns = np.ogrid[:num_dates, :num_stocks]\n",
        "    index_nan = np.isnan(data)\n",
        "    nan_count = np.count_nonzero(index_nan, axis=0)\n",
        "    lengths = num_dates - nan_count\n",
        "    is_first_nan = np.isnan(data[0, :]).astype(int)\n",
        "    nan_count = np.multiply(nan_count, is_first_nan)\n",
        "    rows = rows + nan_count[np.newaxis, :] - num_dates\n",
        "    data_new = data[rows, columns]\n",
        "    data_new[np.isnan(data_new)] = 0\n",
        "\n",
        "    # calculate pred\n",
        "    pred = weights @ data_new # prediction for 2nd to (day+1)th days\n",
        "    pred = pred[:-1, :] # prediction for 2nd to (day)th days\n",
        "\n",
        "    # unpack pred to one-dimensional\n",
        "    vlm_pred = []\n",
        "    for j in range(num_stocks):\n",
        "      length = lengths[j]\n",
        "      vlm_pred.append(pred[:length-1, j])\n",
        "    vlm_pred = np.concatenate(vlm_pred, axis=0)\n",
        "\n",
        "    # drop the first data point for each stock since it cannot be predicted\n",
        "    data_with_pred = ori_data.reset_index().set_index(['date']).groupby('uspn')\\\n",
        "              .apply(lambda group: group.iloc[1:, :]).drop(columns=['uspn'])\n",
        "\n",
        "    # add one column: price_change[stock, date] = \n",
        "    #          (price_adj[stock, date] - price_adj[stock, date-1]) / price_adj[stock, date-1]\n",
        "    price_change = ori_data.reset_index().set_index(['uspn', 'date']).sort_index()['price_adj'].pct_change().abs()\n",
        "    data_with_pred['price_change'] = price_change\n",
        "\n",
        "    # add two columns to record predicted volumes using EWMA\n",
        "    data_with_pred['vlm_pred_naive'] = vlm_pred\n",
        "    data_with_pred['y'] = data_with_pred['volume'] / data_with_pred['vlm_pred_naive'] - 1\n",
        "    data_with_pred.replace([np.inf, -np.inf], np.nan, inplace=True)\n",
        "    data_with_pred = data_with_pred.dropna()\n",
        "\n",
        "    return data_with_pred"
      ],
      "metadata": {
        "id": "Q1tf-1BbtiS6"
      },
      "execution_count": 4,
      "outputs": []
    },
    {
      "cell_type": "markdown",
      "source": [
        "In order to verify my *EWMA* class is constructed correctly, we set *halftime* $= 0.1 → 0$. In this case, the prediction of $t$th day is just a simple copy of the volume data of the $(t-1)$th day."
      ],
      "metadata": {
        "id": "fZWBThVpOHne"
      }
    },
    {
      "cell_type": "code",
      "source": [
        "# EWMA with halftime = 0.1\n",
        "model_ewma_simple_copy = EWMA(halftime=0.1)\n",
        "data_simple_copy = model_ewma_simple_copy.predict(ori_data)\n",
        "plt.plot(data_simple_copy['volume'].loc['A'].to_numpy()[:100], label='volume(groundtruth)')\n",
        "plt.plot(data_simple_copy['vlm_pred_naive'].loc['A'].to_numpy()[:100], label='vlm_pred_naive')\n",
        "plt.xlabel('date')\n",
        "plt.ylabel('volume')\n",
        "plt.title('vlm_pred_naive (halftime=0.1) and volume')\n",
        "plt.legend()"
      ],
      "metadata": {
        "id": "CyKNNubbOhg6",
        "colab": {
          "base_uri": "https://localhost:8080/",
          "height": 313
        },
        "outputId": "96d214d1-52eb-4bea-90ca-82118e84741d"
      },
      "execution_count": 5,
      "outputs": [
        {
          "output_type": "execute_result",
          "data": {
            "text/plain": [
              "<matplotlib.legend.Legend at 0x7f61d0e1d5d0>"
            ]
          },
          "metadata": {},
          "execution_count": 5
        },
        {
          "output_type": "display_data",
          "data": {
            "text/plain": [
              "<Figure size 432x288 with 1 Axes>"
            ],
            "image/png": "[encoded data removed]"
          },
          "metadata": {
            "needs_background": "light"
          }
        }
      ]
    },
    {
      "cell_type": "markdown",
      "source": [
        "From the above figure, we easily see that the orange curve (predicted volumes using *EWMA* with halftime 0.1) is a simple right-shift of the blue curve (groundtruth volumes), demonstrating that our *EWMA* model is constructed correctly.\n",
        "\n",
        "Then, we can build *EWMA* with *halftime* = 60 as our naive volume prediction model."
      ],
      "metadata": {
        "id": "7eIu-rHZQm0L"
      }
    },
    {
      "cell_type": "code",
      "source": [
        "# EWMA with halftime = 60\n",
        "model_ewma = EWMA(halftime=60)\n",
        "data_with_pred = model_ewma.predict(ori_data)\n",
        "data_with_pred"
      ],
      "metadata": {
        "id": "jlmI05DQRuWR",
        "colab": {
          "base_uri": "https://localhost:8080/",
          "height": 455
        },
        "outputId": "62183f22-fd6f-43de-f815-0ade40e44c03"
      },
      "execution_count": 6,
      "outputs": [
        {
          "output_type": "execute_result",
          "data": {
            "text/plain": [
              "                  price_adj  price_close  price_open  price_high   price_low  \\\n",
              "uspn date                                                                      \n",
              "A    2000-01-05   38.372894    44.617310   47.389126   47.567955   43.141987   \n",
              "     2000-01-06   36.911816    42.918453   44.080830   44.349072   41.577251   \n",
              "     2000-01-07   39.987797    46.494991   42.247852   47.165592   42.203148   \n",
              "     2000-01-10   42.410137    49.311516   49.356224   49.803291   48.327969   \n",
              "     2000-01-11   41.833397    48.640915   49.311516   49.311516   47.523247   \n",
              "...                     ...          ...         ...         ...         ...   \n",
              "ZTS  2019-12-24  132.513702   132.919998  132.210007  133.080002  131.289993   \n",
              "     2019-12-26  132.623352   133.029999  133.190002  133.190002  132.320007   \n",
              "     2019-12-27  132.842697   133.250000  133.399994  133.479996  132.380005   \n",
              "     2019-12-30  131.805878   132.210007  133.570007  133.660004  131.809998   \n",
              "     2019-12-31  131.945450   132.350006  132.009995  132.580002  131.449997   \n",
              "\n",
              "                    volume  sp_weight   ret_raw  price_change  vlm_pred_naive  \\\n",
              "uspn date                                                                       \n",
              "A    2000-01-05  5758600.0   0.096007 -0.062030      0.062030    4.765000e+06   \n",
              "     2000-01-06  2534400.0   0.096007 -0.038076      0.038076    5.264670e+06   \n",
              "     2000-01-07  2819600.0   0.096007  0.083333      0.083333    4.344046e+06   \n",
              "     2000-01-10  2148400.0   0.096007  0.060577      0.060577    3.956305e+06   \n",
              "     2000-01-11  1855900.0   0.096007 -0.013599      0.013599    3.586322e+06   \n",
              "...                    ...        ...       ...           ...             ...   \n",
              "ZTS  2019-12-24   442500.0   0.240081  0.004155      0.004155    2.135535e+06   \n",
              "     2019-12-26   929400.0   0.240081  0.000827      0.000827    2.116089e+06   \n",
              "     2019-12-27  1296100.0   0.240081  0.001654      0.001654    2.102459e+06   \n",
              "     2019-12-30   942000.0   0.240081 -0.007805      0.007805    2.093197e+06   \n",
              "     2019-12-31  1128600.0   0.240081  0.001059      0.001059    2.079974e+06   \n",
              "\n",
              "                        y  \n",
              "uspn date                  \n",
              "A    2000-01-05  0.208520  \n",
              "     2000-01-06 -0.518602  \n",
              "     2000-01-07 -0.350928  \n",
              "     2000-01-10 -0.456968  \n",
              "     2000-01-11 -0.482506  \n",
              "...                   ...  \n",
              "ZTS  2019-12-24 -0.792792  \n",
              "     2019-12-26 -0.560794  \n",
              "     2019-12-27 -0.383531  \n",
              "     2019-12-30 -0.549971  \n",
              "     2019-12-31 -0.457397  \n",
              "\n",
              "[2249977 rows x 11 columns]"
            ],
            "text/html": [
              "\n",
              "  <div id=\"df-f23750c5-9bcd-4daf-a6bf-9a6f74d7c58c\">\n",
              "    <div class=\"colab-df-container\">\n",
              "      <div>\n",
              "<style scoped>\n",
              "    .dataframe tbody tr th:only-of-type {\n",
              "        vertical-align: middle;\n",
              "    }\n",
              "\n",
              "    .dataframe tbody tr th {\n",
              "        vertical-align: top;\n",
              "    }\n",
              "\n",
              "    .dataframe thead th {\n",
              "        text-align: right;\n",
              "    }\n",
              "</style>\n",
              "<table border=\"1\" class=\"dataframe\">\n",
              "  <thead>\n",
              "    <tr style=\"text-align: right;\">\n",
              "      <th></th>\n",
              "      <th></th>\n",
              "      <th>price_adj</th>\n",
              "      <th>price_close</th>\n",
              "      <th>price_open</th>\n",
              "      <th>price_high</th>\n",
              "      <th>price_low</th>\n",
              "      <th>volume</th>\n",
              "      <th>sp_weight</th>\n",
              "      <th>ret_raw</th>\n",
              "      <th>price_change</th>\n",
              "      <th>vlm_pred_naive</th>\n",
              "      <th>y</th>\n",
              "    </tr>\n",
              "    <tr>\n",
              "      <th>uspn</th>\n",
              "      <th>date</th>\n",
              "      <th></th>\n",
              "      <th></th>\n",
              "      <th></th>\n",
              "      <th></th>\n",
              "      <th></th>\n",
              "      <th></th>\n",
              "      <th></th>\n",
              "      <th></th>\n",
              "      <th></th>\n",
              "      <th></th>\n",
              "      <th></th>\n",
              "    </tr>\n",
              "  </thead>\n",
              "  <tbody>\n",
              "    <tr>\n",
              "      <th rowspan=\"5\" valign=\"top\">A</th>\n",
              "      <th>2000-01-05</th>\n",
              "      <td>38.372894</td>\n",
              "      <td>44.617310</td>\n",
              "      <td>47.389126</td>\n",
              "      <td>47.567955</td>\n",
              "      <td>43.141987</td>\n",
              "      <td>5758600.0</td>\n",
              "      <td>0.096007</td>\n",
              "      <td>-0.062030</td>\n",
              "      <td>0.062030</td>\n",
              "      <td>4.765000e+06</td>\n",
              "      <td>0.208520</td>\n",
              "    </tr>\n",
              "    <tr>\n",
              "      <th>2000-01-06</th>\n",
              "      <td>36.911816</td>\n",
              "      <td>42.918453</td>\n",
              "      <td>44.080830</td>\n",
              "      <td>44.349072</td>\n",
              "      <td>41.577251</td>\n",
              "      <td>2534400.0</td>\n",
              "      <td>0.096007</td>\n",
              "      <td>-0.038076</td>\n",
              "      <td>0.038076</td>\n",
              "      <td>5.264670e+06</td>\n",
              "      <td>-0.518602</td>\n",
              "    </tr>\n",
              "    <tr>\n",
              "      <th>2000-01-07</th>\n",
              "      <td>39.987797</td>\n",
              "      <td>46.494991</td>\n",
              "      <td>42.247852</td>\n",
              "      <td>47.165592</td>\n",
              "      <td>42.203148</td>\n",
              "      <td>2819600.0</td>\n",
              "      <td>0.096007</td>\n",
              "      <td>0.083333</td>\n",
              "      <td>0.083333</td>\n",
              "      <td>4.344046e+06</td>\n",
              "      <td>-0.350928</td>\n",
              "    </tr>\n",
              "    <tr>\n",
              "      <th>2000-01-10</th>\n",
              "      <td>42.410137</td>\n",
              "      <td>49.311516</td>\n",
              "      <td>49.356224</td>\n",
              "      <td>49.803291</td>\n",
              "      <td>48.327969</td>\n",
              "      <td>2148400.0</td>\n",
              "      <td>0.096007</td>\n",
              "      <td>0.060577</td>\n",
              "      <td>0.060577</td>\n",
              "      <td>3.956305e+06</td>\n",
              "      <td>-0.456968</td>\n",
              "    </tr>\n",
              "    <tr>\n",
              "      <th>2000-01-11</th>\n",
              "      <td>41.833397</td>\n",
              "      <td>48.640915</td>\n",
              "      <td>49.311516</td>\n",
              "      <td>49.311516</td>\n",
              "      <td>47.523247</td>\n",
              "      <td>1855900.0</td>\n",
              "      <td>0.096007</td>\n",
              "      <td>-0.013599</td>\n",
              "      <td>0.013599</td>\n",
              "      <td>3.586322e+06</td>\n",
              "      <td>-0.482506</td>\n",
              "    </tr>\n",
              "    <tr>\n",
              "      <th>...</th>\n",
              "      <th>...</th>\n",
              "      <td>...</td>\n",
              "      <td>...</td>\n",
              "      <td>...</td>\n",
              "      <td>...</td>\n",
              "      <td>...</td>\n",
              "      <td>...</td>\n",
              "      <td>...</td>\n",
              "      <td>...</td>\n",
              "      <td>...</td>\n",
              "      <td>...</td>\n",
              "      <td>...</td>\n",
              "    </tr>\n",
              "    <tr>\n",
              "      <th rowspan=\"5\" valign=\"top\">ZTS</th>\n",
              "      <th>2019-12-24</th>\n",
              "      <td>132.513702</td>\n",
              "      <td>132.919998</td>\n",
              "      <td>132.210007</td>\n",
              "      <td>133.080002</td>\n",
              "      <td>131.289993</td>\n",
              "      <td>442500.0</td>\n",
              "      <td>0.240081</td>\n",
              "      <td>0.004155</td>\n",
              "      <td>0.004155</td>\n",
              "      <td>2.135535e+06</td>\n",
              "      <td>-0.792792</td>\n",
              "    </tr>\n",
              "    <tr>\n",
              "      <th>2019-12-26</th>\n",
              "      <td>132.623352</td>\n",
              "      <td>133.029999</td>\n",
              "      <td>133.190002</td>\n",
              "      <td>133.190002</td>\n",
              "      <td>132.320007</td>\n",
              "      <td>929400.0</td>\n",
              "      <td>0.240081</td>\n",
              "      <td>0.000827</td>\n",
              "      <td>0.000827</td>\n",
              "      <td>2.116089e+06</td>\n",
              "      <td>-0.560794</td>\n",
              "    </tr>\n",
              "    <tr>\n",
              "      <th>2019-12-27</th>\n",
              "      <td>132.842697</td>\n",
              "      <td>133.250000</td>\n",
              "      <td>133.399994</td>\n",
              "      <td>133.479996</td>\n",
              "      <td>132.380005</td>\n",
              "      <td>1296100.0</td>\n",
              "      <td>0.240081</td>\n",
              "      <td>0.001654</td>\n",
              "      <td>0.001654</td>\n",
              "      <td>2.102459e+06</td>\n",
              "      <td>-0.383531</td>\n",
              "    </tr>\n",
              "    <tr>\n",
              "      <th>2019-12-30</th>\n",
              "      <td>131.805878</td>\n",
              "      <td>132.210007</td>\n",
              "      <td>133.570007</td>\n",
              "      <td>133.660004</td>\n",
              "      <td>131.809998</td>\n",
              "      <td>942000.0</td>\n",
              "      <td>0.240081</td>\n",
              "      <td>-0.007805</td>\n",
              "      <td>0.007805</td>\n",
              "      <td>2.093197e+06</td>\n",
              "      <td>-0.549971</td>\n",
              "    </tr>\n",
              "    <tr>\n",
              "      <th>2019-12-31</th>\n",
              "      <td>131.945450</td>\n",
              "      <td>132.350006</td>\n",
              "      <td>132.009995</td>\n",
              "      <td>132.580002</td>\n",
              "      <td>131.449997</td>\n",
              "      <td>1128600.0</td>\n",
              "      <td>0.240081</td>\n",
              "      <td>0.001059</td>\n",
              "      <td>0.001059</td>\n",
              "      <td>2.079974e+06</td>\n",
              "      <td>-0.457397</td>\n",
              "    </tr>\n",
              "  </tbody>\n",
              "</table>\n",
              "<p>2249977 rows × 11 columns</p>\n",
              "</div>\n",
              "      <button class=\"colab-df-convert\" onclick=\"convertToInteractive('df-f23750c5-9bcd-4daf-a6bf-9a6f74d7c58c')\"\n",
              "              title=\"Convert this dataframe to an interactive table.\"\n",
              "              style=\"display:none;\">\n",
              "        \n",
              "  <svg xmlns=\"http://www.w3.org/2000/svg\" height=\"24px\"viewBox=\"0 0 24 24\"\n",
              "       width=\"24px\">\n",
              "    <path d=\"M0 0h24v24H0V0z\" fill=\"none\"/>\n",
              "    <path d=\"M18.56 5.44l.94 2.06.94-2.06 2.06-.94-2.06-.94-.94-2.06-.94 2.06-2.06.94zm-11 1L8.5 8.5l.94-2.06 2.06-.94-2.06-.94L8.5 2.5l-.94 2.06-2.06.94zm10 10l.94 2.06.94-2.06 2.06-.94-2.06-.94-.94-2.06-.94 2.06-2.06.94z\"/><path d=\"M17.41 7.96l-1.37-1.37c-.4-.4-.92-.59-1.43-.59-.52 0-1.04.2-1.43.59L10.3 9.45l-7.72 7.72c-.78.78-.78 2.05 0 2.83L4 21.41c.39.39.9.59 1.41.59.51 0 1.02-.2 1.41-.59l7.78-7.78 2.81-2.81c.8-.78.8-2.07 0-2.86zM5.41 20L4 18.59l7.72-7.72 1.47 1.35L5.41 20z\"/>\n",
              "  </svg>\n",
              "      </button>\n",
              "      \n",
              "  <style>\n",
              "    .colab-df-container {\n",
              "      display:flex;\n",
              "      flex-wrap:wrap;\n",
              "      gap: 12px;\n",
              "    }\n",
              "\n",
              "    .colab-df-convert {\n",
              "      background-color: #E8F0FE;\n",
              "      border: none;\n",
              "      border-radius: 50%;\n",
              "      cursor: pointer;\n",
              "      display: none;\n",
              "      fill: #1967D2;\n",
              "      height: 32px;\n",
              "      padding: 0 0 0 0;\n",
              "      width: 32px;\n",
              "    }\n",
              "\n",
              "    .colab-df-convert:hover {\n",
              "      background-color: #E2EBFA;\n",
              "      box-shadow: 0px 1px 2px rgba(60, 64, 67, 0.3), 0px 1px 3px 1px rgba(60, 64, 67, 0.15);\n",
              "      fill: #174EA6;\n",
              "    }\n",
              "\n",
              "    [theme=dark] .colab-df-convert {\n",
              "      background-color: #3B4455;\n",
              "      fill: #D2E3FC;\n",
              "    }\n",
              "\n",
              "    [theme=dark] .colab-df-convert:hover {\n",
              "      background-color: #434B5C;\n",
              "      box-shadow: 0px 1px 3px 1px rgba(0, 0, 0, 0.15);\n",
              "      filter: drop-shadow(0px 1px 2px rgba(0, 0, 0, 0.3));\n",
              "      fill: #FFFFFF;\n",
              "    }\n",
              "  </style>\n",
              "\n",
              "      <script>\n",
              "        const buttonEl =\n",
              "          document.querySelector('#df-f23750c5-9bcd-4daf-a6bf-9a6f74d7c58c button.colab-df-convert');\n",
              "        buttonEl.style.display =\n",
              "          google.colab.kernel.accessAllowed ? 'block' : 'none';\n",
              "\n",
              "        async function convertToInteractive(key) {\n",
              "          const element = document.querySelector('#df-f23750c5-9bcd-4daf-a6bf-9a6f74d7c58c');\n",
              "          const dataTable =\n",
              "            await google.colab.kernel.invokeFunction('convertToInteractive',\n",
              "                                                     [key], {});\n",
              "          if (!dataTable) return;\n",
              "\n",
              "          const docLinkHtml = 'Like what you see? Visit the ' +\n",
              "            '<a target=\"_blank\" href=https://colab.research.google.com/notebooks/data_table.ipynb>data table notebook</a>'\n",
              "            + ' to learn more about interactive tables.';\n",
              "          element.innerHTML = '';\n",
              "          dataTable['output_type'] = 'display_data';\n",
              "          await google.colab.output.renderOutput(dataTable, element);\n",
              "          const docLink = document.createElement('div');\n",
              "          docLink.innerHTML = docLinkHtml;\n",
              "          element.appendChild(docLink);\n",
              "        }\n",
              "      </script>\n",
              "    </div>\n",
              "  </div>\n",
              "  "
            ]
          },
          "metadata": {},
          "execution_count": 6
        }
      ]
    },
    {
      "cell_type": "code",
      "source": [
        "plt.plot(data_with_pred['volume'].loc['ZTS'].to_numpy()[:1000], label='volume(groundtruth)')\n",
        "plt.plot(data_with_pred['vlm_pred_naive'].loc['ZTS'].to_numpy()[0:1000], label='vlm_pred_naive')\n",
        "plt.xlabel('date')\n",
        "plt.ylabel('volume')\n",
        "plt.title('vlm_pred_naive (halftime=60) and volume')\n",
        "plt.legend()"
      ],
      "metadata": {
        "id": "H3fFk7bVYhmG",
        "colab": {
          "base_uri": "https://localhost:8080/",
          "height": 313
        },
        "outputId": "6fc546e1-2d61-40df-8e96-0aec8a48386a"
      },
      "execution_count": 7,
      "outputs": [
        {
          "output_type": "execute_result",
          "data": {
            "text/plain": [
              "<matplotlib.legend.Legend at 0x7f61c7d703d0>"
            ]
          },
          "metadata": {},
          "execution_count": 7
        },
        {
          "output_type": "display_data",
          "data": {
            "text/plain": [
              "<Figure size 432x288 with 1 Axes>"
            ],
            "image/png": "[encoded data removed]"
          },
          "metadata": {
            "needs_background": "light"
          }
        }
      ]
    },
    {
      "cell_type": "markdown",
      "source": [
        "We see that the predicted curve generally follows the overall trend of the groundtruth curve, despite not able to display any sharp peaks.\n",
        "\n",
        "We first compare groundtruth *volume* and prediction *vlm_pred_naive* by scattering them."
      ],
      "metadata": {
        "id": "eMk_o6xySZUJ"
      }
    },
    {
      "cell_type": "code",
      "source": [
        "plt.scatter(data_with_pred['volume'].to_numpy(), data_with_pred['vlm_pred_naive'].to_numpy())\n",
        "plt.xlabel('volume')\n",
        "plt.ylabel('vlm_pred_naive')\n",
        "plt.title('scatter vlm_pred_naive v.s. volume')"
      ],
      "metadata": {
        "id": "4RatAvZx2jzK",
        "colab": {
          "base_uri": "https://localhost:8080/",
          "height": 313
        },
        "outputId": "fc835bc5-a84e-43d5-9cf1-5998585aeed8"
      },
      "execution_count": 8,
      "outputs": [
        {
          "output_type": "execute_result",
          "data": {
            "text/plain": [
              "Text(0.5, 1.0, 'scatter vlm_pred_naive v.s. volume')"
            ]
          },
          "metadata": {},
          "execution_count": 8
        },
        {
          "output_type": "display_data",
          "data": {
            "text/plain": [
              "<Figure size 432x288 with 1 Axes>"
            ],
            "image/png": "[encoded data removed]"
          },
          "metadata": {
            "needs_background": "light"
          }
        }
      ]
    },
    {
      "cell_type": "markdown",
      "source": [
        "From the above scattering figure, we see a rough linear relationships between *volume* and *vlm_pred_naive*. This makes sense since we only use historical volume data to predict today's volume data, which is too simple and could not provide enough information. The deviation of the $t$th day's volume, impacted by lots of other factors, could be significantly large.\n",
        "\n",
        "We can also regress *vlm_pred_naive* on *volume*. Here is the summary of results."
      ],
      "metadata": {
        "id": "rK9dtmbXDALj"
      }
    },
    {
      "cell_type": "code",
      "source": [
        "result = sm.ols(formula=\"vlm_pred_naive ~ volume\", data=data_with_pred).fit()\n",
        "result.summary()"
      ],
      "metadata": {
        "id": "ljkE9Sh4UFj_",
        "colab": {
          "base_uri": "https://localhost:8080/",
          "height": 486
        },
        "outputId": "a51d85a1-52a2-4078-89a3-498d50b04c2f"
      },
      "execution_count": 10,
      "outputs": [
        {
          "output_type": "execute_result",
          "data": {
            "text/plain": [
              "<class 'statsmodels.iolib.summary.Summary'>\n",
              "\"\"\"\n",
              "                            OLS Regression Results                            \n",
              "==============================================================================\n",
              "Dep. Variable:         vlm_pred_naive   R-squared:                       0.745\n",
              "Model:                            OLS   Adj. R-squared:                  0.745\n",
              "Method:                 Least Squares   F-statistic:                 6.576e+06\n",
              "Date:                Wed, 09 Nov 2022   Prob (F-statistic):               0.00\n",
              "Time:                        19:20:43   Log-Likelihood:            -3.8240e+07\n",
              "No. Observations:             2249977   AIC:                         7.648e+07\n",
              "Df Residuals:                 2249975   BIC:                         7.648e+07\n",
              "Df Model:                           1                                         \n",
              "Covariance Type:            nonrobust                                         \n",
              "==============================================================================\n",
              "                 coef    std err          t      P>|t|      [0.025      0.975]\n",
              "------------------------------------------------------------------------------\n",
              "Intercept   1.263e+06   4150.203    304.291      0.000    1.25e+06    1.27e+06\n",
              "volume         0.7504      0.000   2564.297      0.000       0.750       0.751\n",
              "==============================================================================\n",
              "Omnibus:                  3614380.870   Durbin-Watson:                   0.649\n",
              "Prob(Omnibus):                  0.000   Jarque-Bera (JB):     301408653532.958\n",
              "Skew:                          -8.877   Prob(JB):                         0.00\n",
              "Kurtosis:                    1795.971   Cond. No.                     1.52e+07\n",
              "==============================================================================\n",
              "\n",
              "Notes:\n",
              "[1] Standard Errors assume that the covariance matrix of the errors is correctly specified.\n",
              "[2] The condition number is large, 1.52e+07. This might indicate that there are\n",
              "strong multicollinearity or other numerical problems.\n",
              "\"\"\""
            ],
            "text/html": [
              "<table class=\"simpletable\">\n",
              "<caption>OLS Regression Results</caption>\n",
              "<tr>\n",
              "  <th>Dep. Variable:</th>     <td>vlm_pred_naive</td>  <th>  R-squared:         </th>  <td>   0.745</td>  \n",
              "</tr>\n",
              "<tr>\n",
              "  <th>Model:</th>                   <td>OLS</td>       <th>  Adj. R-squared:    </th>  <td>   0.745</td>  \n",
              "</tr>\n",
              "<tr>\n",
              "  <th>Method:</th>             <td>Least Squares</td>  <th>  F-statistic:       </th>  <td>6.576e+06</td> \n",
              "</tr>\n",
              "<tr>\n",
              "  <th>Date:</th>             <td>Wed, 09 Nov 2022</td> <th>  Prob (F-statistic):</th>   <td>  0.00</td>   \n",
              "</tr>\n",
              "<tr>\n",
              "  <th>Time:</th>                 <td>19:20:43</td>     <th>  Log-Likelihood:    </th> <td>-3.8240e+07</td>\n",
              "</tr>\n",
              "<tr>\n",
              "  <th>No. Observations:</th>      <td>2249977</td>     <th>  AIC:               </th>  <td>7.648e+07</td> \n",
              "</tr>\n",
              "<tr>\n",
              "  <th>Df Residuals:</th>          <td>2249975</td>     <th>  BIC:               </th>  <td>7.648e+07</td> \n",
              "</tr>\n",
              "<tr>\n",
              "  <th>Df Model:</th>              <td>     1</td>      <th>                     </th>      <td> </td>     \n",
              "</tr>\n",
              "<tr>\n",
              "  <th>Covariance Type:</th>      <td>nonrobust</td>    <th>                     </th>      <td> </td>     \n",
              "</tr>\n",
              "</table>\n",
              "<table class=\"simpletable\">\n",
              "<tr>\n",
              "      <td></td>         <th>coef</th>     <th>std err</th>      <th>t</th>      <th>P>|t|</th>  <th>[0.025</th>    <th>0.975]</th>  \n",
              "</tr>\n",
              "<tr>\n",
              "  <th>Intercept</th> <td> 1.263e+06</td> <td> 4150.203</td> <td>  304.291</td> <td> 0.000</td> <td> 1.25e+06</td> <td> 1.27e+06</td>\n",
              "</tr>\n",
              "<tr>\n",
              "  <th>volume</th>    <td>    0.7504</td> <td>    0.000</td> <td> 2564.297</td> <td> 0.000</td> <td>    0.750</td> <td>    0.751</td>\n",
              "</tr>\n",
              "</table>\n",
              "<table class=\"simpletable\">\n",
              "<tr>\n",
              "  <th>Omnibus:</th>       <td>3614380.870</td> <th>  Durbin-Watson:     </th>     <td>   0.649</td>    \n",
              "</tr>\n",
              "<tr>\n",
              "  <th>Prob(Omnibus):</th>   <td> 0.000</td>    <th>  Jarque-Bera (JB):  </th> <td>301408653532.958</td>\n",
              "</tr>\n",
              "<tr>\n",
              "  <th>Skew:</th>            <td>-8.877</td>    <th>  Prob(JB):          </th>     <td>    0.00</td>    \n",
              "</tr>\n",
              "<tr>\n",
              "  <th>Kurtosis:</th>       <td>1795.971</td>   <th>  Cond. No.          </th>     <td>1.52e+07</td>    \n",
              "</tr>\n",
              "</table><br/><br/>Notes:<br/>[1] Standard Errors assume that the covariance matrix of the errors is correctly specified.<br/>[2] The condition number is large, 1.52e+07. This might indicate that there are<br/>strong multicollinearity or other numerical problems."
            ]
          },
          "metadata": {},
          "execution_count": 10
        }
      ]
    },
    {
      "cell_type": "markdown",
      "source": [
        "We see that the $R^2$ metrics is 0.745, and the coefficient is 0.7504 with t-stat 2564.297. The coefficient is smaller than 1 because EWMA cannot predict sharp peaks, and therefore averagely smaller than groundthruth."
      ],
      "metadata": {
        "id": "q1vkoYgDUdNc"
      }
    },
    {
      "cell_type": "markdown",
      "source": [
        "Next, we focus on searching for the correlations between *y = volume/vlm_pred_naive - 1* and various price features. We can do the linear regression of *y* on all price features, including *price_adj*, *price_close*, *price_open*, *price_high*, *price_low*, *price_change*. We find that the coefficients before *price_adj*, *price_close*, and *price_open* have too small t stats. Therefore, here we only show the results of regressing *y* on *price_high*, *price_low*, *price_change*."
      ],
      "metadata": {
        "id": "LlGjOPQeUEuv"
      }
    },
    {
      "cell_type": "code",
      "source": [
        "result = sm.ols(formula=\"y ~ price_high + price_low + price_change\",\n",
        "         data=data_with_pred).fit()\n",
        "result.summary()"
      ],
      "metadata": {
        "id": "n_2B9-1Q-Suy",
        "colab": {
          "base_uri": "https://localhost:8080/",
          "height": 529
        },
        "outputId": "2b7e9d5e-d71c-4894-e806-4093cc806b50"
      },
      "execution_count": 11,
      "outputs": [
        {
          "output_type": "execute_result",
          "data": {
            "text/plain": [
              "<class 'statsmodels.iolib.summary.Summary'>\n",
              "\"\"\"\n",
              "                            OLS Regression Results                            \n",
              "==============================================================================\n",
              "Dep. Variable:                      y   R-squared:                       0.012\n",
              "Model:                            OLS   Adj. R-squared:                  0.012\n",
              "Method:                 Least Squares   F-statistic:                     9367.\n",
              "Date:                Wed, 09 Nov 2022   Prob (F-statistic):               0.00\n",
              "Time:                        19:20:46   Log-Likelihood:            -5.1317e+06\n",
              "No. Observations:             2249977   AIC:                         1.026e+07\n",
              "Df Residuals:                 2249973   BIC:                         1.026e+07\n",
              "Df Model:                           3                                         \n",
              "Covariance Type:            nonrobust                                         \n",
              "================================================================================\n",
              "                   coef    std err          t      P>|t|      [0.025      0.975]\n",
              "--------------------------------------------------------------------------------\n",
              "Intercept       -0.1844      0.002    -81.090      0.000      -0.189      -0.180\n",
              "price_high       0.0331      0.001     33.952      0.000       0.031       0.035\n",
              "price_low       -0.0337      0.001    -33.876      0.000      -0.036      -0.032\n",
              "price_change    13.2671      0.093    142.634      0.000      13.085      13.449\n",
              "==================================================================================\n",
              "Omnibus:                 16694802.301   Durbin-Watson:                       1.931\n",
              "Prob(Omnibus):                  0.000   Jarque-Bera (JB):   134905190009480336.000\n",
              "Skew:                        1000.364   Prob(JB):                             0.00\n",
              "Kurtosis:                 1199586.011   Cond. No.                         1.06e+04\n",
              "==================================================================================\n",
              "\n",
              "Notes:\n",
              "[1] Standard Errors assume that the covariance matrix of the errors is correctly specified.\n",
              "[2] The condition number is large, 1.06e+04. This might indicate that there are\n",
              "strong multicollinearity or other numerical problems.\n",
              "\"\"\""
            ],
            "text/html": [
              "<table class=\"simpletable\">\n",
              "<caption>OLS Regression Results</caption>\n",
              "<tr>\n",
              "  <th>Dep. Variable:</th>            <td>y</td>        <th>  R-squared:         </th>  <td>   0.012</td>  \n",
              "</tr>\n",
              "<tr>\n",
              "  <th>Model:</th>                   <td>OLS</td>       <th>  Adj. R-squared:    </th>  <td>   0.012</td>  \n",
              "</tr>\n",
              "<tr>\n",
              "  <th>Method:</th>             <td>Least Squares</td>  <th>  F-statistic:       </th>  <td>   9367.</td>  \n",
              "</tr>\n",
              "<tr>\n",
              "  <th>Date:</th>             <td>Wed, 09 Nov 2022</td> <th>  Prob (F-statistic):</th>   <td>  0.00</td>   \n",
              "</tr>\n",
              "<tr>\n",
              "  <th>Time:</th>                 <td>19:20:46</td>     <th>  Log-Likelihood:    </th> <td>-5.1317e+06</td>\n",
              "</tr>\n",
              "<tr>\n",
              "  <th>No. Observations:</th>      <td>2249977</td>     <th>  AIC:               </th>  <td>1.026e+07</td> \n",
              "</tr>\n",
              "<tr>\n",
              "  <th>Df Residuals:</th>          <td>2249973</td>     <th>  BIC:               </th>  <td>1.026e+07</td> \n",
              "</tr>\n",
              "<tr>\n",
              "  <th>Df Model:</th>              <td>     3</td>      <th>                     </th>      <td> </td>     \n",
              "</tr>\n",
              "<tr>\n",
              "  <th>Covariance Type:</th>      <td>nonrobust</td>    <th>                     </th>      <td> </td>     \n",
              "</tr>\n",
              "</table>\n",
              "<table class=\"simpletable\">\n",
              "<tr>\n",
              "        <td></td>          <th>coef</th>     <th>std err</th>      <th>t</th>      <th>P>|t|</th>  <th>[0.025</th>    <th>0.975]</th>  \n",
              "</tr>\n",
              "<tr>\n",
              "  <th>Intercept</th>    <td>   -0.1844</td> <td>    0.002</td> <td>  -81.090</td> <td> 0.000</td> <td>   -0.189</td> <td>   -0.180</td>\n",
              "</tr>\n",
              "<tr>\n",
              "  <th>price_high</th>   <td>    0.0331</td> <td>    0.001</td> <td>   33.952</td> <td> 0.000</td> <td>    0.031</td> <td>    0.035</td>\n",
              "</tr>\n",
              "<tr>\n",
              "  <th>price_low</th>    <td>   -0.0337</td> <td>    0.001</td> <td>  -33.876</td> <td> 0.000</td> <td>   -0.036</td> <td>   -0.032</td>\n",
              "</tr>\n",
              "<tr>\n",
              "  <th>price_change</th> <td>   13.2671</td> <td>    0.093</td> <td>  142.634</td> <td> 0.000</td> <td>   13.085</td> <td>   13.449</td>\n",
              "</tr>\n",
              "</table>\n",
              "<table class=\"simpletable\">\n",
              "<tr>\n",
              "  <th>Omnibus:</th>       <td>16694802.301</td> <th>  Durbin-Watson:     </th>        <td>   1.931</td>       \n",
              "</tr>\n",
              "<tr>\n",
              "  <th>Prob(Omnibus):</th>    <td> 0.000</td>    <th>  Jarque-Bera (JB):  </th> <td>134905190009480336.000</td>\n",
              "</tr>\n",
              "<tr>\n",
              "  <th>Skew:</th>            <td>1000.364</td>   <th>  Prob(JB):          </th>        <td>    0.00</td>       \n",
              "</tr>\n",
              "<tr>\n",
              "  <th>Kurtosis:</th>       <td>1199586.011</td> <th>  Cond. No.          </th>        <td>1.06e+04</td>       \n",
              "</tr>\n",
              "</table><br/><br/>Notes:<br/>[1] Standard Errors assume that the covariance matrix of the errors is correctly specified.<br/>[2] The condition number is large, 1.06e+04. This might indicate that there are<br/>strong multicollinearity or other numerical problems."
            ]
          },
          "metadata": {},
          "execution_count": 11
        }
      ]
    },
    {
      "cell_type": "markdown",
      "source": [
        "We see that *y = volume/vlm_pred_naive - 1* is positively correlated to *price_high - price_low* and *price_change*. This is consistent with my intuition. A larger *price_high - price_low* means the stock has large fluctuations at that day, which causes more people contributing to buy-and-sell. Note that *price_change[stock, date] = (price_adj[stock, date] - price_adj[stock, date-1]) / price_adj[stock, date-1]*. When the price of the stock has large change compared to the price of the previous day, more people will contribute to buy-and-sell."
      ],
      "metadata": {
        "id": "pT1Nz_tNWFok"
      }
    },
    {
      "cell_type": "markdown",
      "source": [
        "## Part 2: Using LSTM to predict volume"
      ],
      "metadata": {
        "id": "JtJN-WAjMbK3"
      }
    },
    {
      "cell_type": "markdown",
      "source": [
        "In this part, we can try to use Long short-term memory (LSTM) to do the stock volume prediction. First, we construct a *Scaler* class to normalize each column and also record the means and deviations of each column for original data. Then, we use the data from 2000 to 2015 as the training data and the data from 2016 to 2020 as the test data. "
      ],
      "metadata": {
        "id": "FWi-2ecosEgM"
      }
    },
    {
      "cell_type": "code",
      "source": [
        "class Scaler():\n",
        "    def __init__(self):\n",
        "        self.mu = None\n",
        "        self.sd = None\n",
        "\n",
        "    def norm(self, df):\n",
        "        self.mu = df.mean()\n",
        "        self.sd = df.std()\n",
        "        norm_df = (df - self.mu) / self.sd\n",
        "        return norm_df\n",
        "\n",
        "scaler = Scaler()\n",
        "\n",
        "ori_data_norm = scaler.norm(ori_data)\n",
        "ori_data_resetidx = ori_data_norm.reset_index()\n",
        "train_data = ori_data_resetidx[ori_data_resetidx['date'] < '2016-01-01']\n",
        "test_data = ori_data_resetidx[ori_data_resetidx['date'] >= '2016-01-01']\n",
        "train_data.set_index(['date', 'uspn'], inplace=True)\n",
        "test_data.set_index(['date', 'uspn'], inplace=True)"
      ],
      "metadata": {
        "id": "PH8ArSQErCt4"
      },
      "execution_count": 12,
      "outputs": []
    },
    {
      "cell_type": "markdown",
      "source": [
        "We convert the train and test dataframes to numpy arrays. We also record the length of dates with non-nan data for each stock."
      ],
      "metadata": {
        "id": "FibjA1nZRYn9"
      }
    },
    {
      "cell_type": "code",
      "source": [
        "def get_data_arr(df):\n",
        "  # input: df, train or test data in df fromat\n",
        "  # output: data_arr, (num_stocks, num_dates, num_features) array, with 5 price features and volume\n",
        "  #      length, (num_stock,) array, length of dates with non-nan data for each stock \n",
        "  columns = ['price_adj',\t'price_close', 'price_open', 'price_high', 'price_low', 'volume']\n",
        "  data_arr = []\n",
        "  for column in columns:\n",
        "    data_arr.append(pd.DataFrame(df[column]).unstack().sort_index(axis=1).to_numpy().T[:, :, np.newaxis])\n",
        "  data_arr = np.concatenate(data_arr, axis=2) # (num_stocks, num_dates, num_features)\n",
        "  index_nan = np.isnan(data_arr[:, :, 0])\n",
        "  lengths = np.count_nonzero(1 - index_nan, axis=1) # (num_stocks,)\n",
        "  return data_arr, lengths\n",
        "  \n",
        "train_data_arr, train_lengths = get_data_arr(train_data)\n",
        "test_data_arr, test_lengths = get_data_arr(test_data)"
      ],
      "metadata": {
        "id": "U-STPkNHtCY6"
      },
      "execution_count": 13,
      "outputs": []
    },
    {
      "cell_type": "markdown",
      "source": [
        "We move all nan to the bottom and replace them by zeros. in order to more easily handle the varying lengths of effective dates for each stock. "
      ],
      "metadata": {
        "id": "DJpdHBDmR42a"
      }
    },
    {
      "cell_type": "code",
      "source": [
        "# move all nan to the bottom and replace them by zeros\n",
        "def move_nan_bottom(data):\n",
        "  num_stocks, num_dates, num_features = data.shape\n",
        "  rows, columns, heights = np.ogrid[:num_stocks, :num_dates, :num_features]\n",
        "  index_nan = np.isnan(data)\n",
        "  nan_count = np.count_nonzero(index_nan, axis=1)\n",
        "  is_first_nan = np.isnan(data[:, 0, :]).astype(int)\n",
        "  nan_count = np.multiply(nan_count, is_first_nan)\n",
        "  nan_count = nan_count[:, np.newaxis, :]\n",
        "  columns = columns + nan_count - num_dates\n",
        "  data = data[rows, columns, heights]\n",
        "  data[np.isnan(data)] = 0\n",
        "  return data\n",
        "\n",
        "train_data_arr = move_nan_bottom(train_data_arr)\n",
        "test_data_arr = move_nan_bottom(test_data_arr)"
      ],
      "metadata": {
        "id": "mmeZzublwp8e"
      },
      "execution_count": 14,
      "outputs": []
    },
    {
      "cell_type": "markdown",
      "source": [
        "Now, we can build train and test dataset, with shape of \\\\\n",
        "X: (len(dataset), window_size, num_feature) \\\\\n",
        "src_lengths: (len(dataset),) \\\\\n",
        "Y: (len(dataset),) \\\\\n",
        "After converting to dataloaders, len(dataset) is replaced by batch_size."
      ],
      "metadata": {
        "id": "iYO2S7O6R_Bx"
      }
    },
    {
      "cell_type": "code",
      "source": [
        "# generate training and test dataset\n",
        "def get_dataset(data_arr, lengths, window_size=60):\n",
        "  num_stocks, num_dates, num_features = data_arr.shape\n",
        "  X = []\n",
        "  Y = []\n",
        "  src_lengths = []\n",
        "  for i in range(num_stocks):\n",
        "    # forcasting days < window_size: do zero padding\n",
        "    for day in range(1, min(lengths[i], window_size)):\n",
        "      temp = data_arr[i, :day, :] # (day, num_features)\n",
        "      temp = np.concatenate([temp, np.zeros((window_size-day, num_features))], axis=0)\n",
        "      X.append(temp[np.newaxis, :, :]) # (1, window_size, num_features)\n",
        "      Y.append(np.array(data_arr[i, day+1, -1]).reshape(1,)) # (1,)\n",
        "      src_lengths.append(np.array(day).reshape(1,)) # (1,)\n",
        "    # forcasting days == window_size\n",
        "    X_i = []\n",
        "    n_row = lengths[i] - window_size\n",
        "    if n_row > 0:\n",
        "      for j in range(num_features):\n",
        "        x = data_arr[i, :, j]\n",
        "        output = np.lib.stride_tricks.as_strided(x, shape=(n_row, window_size),\n",
        "                              strides=(x.strides[0], x.strides[0]))\n",
        "        X_i.append(output[:, :, np.newaxis]) \n",
        "      X_i = np.concatenate(X_i, axis=2) # (n_row, window_size, num_features)\n",
        "      Y_i = data_arr[i, window_size: lengths[i], -1] # (n_row,)\n",
        "      X.append(X_i)\n",
        "      Y.append(Y_i)\n",
        "      src_lengths.append(np.ones(n_row) * 60) # (n_row,)\n",
        "  X = np.concatenate(X, axis=0)\n",
        "  Y = np.concatenate(Y, axis=0)\n",
        "  src_lengths = np.concatenate(src_lengths, axis=0)\n",
        "  X_ten, Y_ten = torch.tensor(X).type(torch.FloatTensor), torch.tensor(Y).type(torch.FloatTensor)\n",
        "  src_lengths_ten = torch.tensor(src_lengths).type(torch.IntTensor)\n",
        "  dataset = data_utils.TensorDataset(X_ten, src_lengths_ten, Y_ten)\n",
        "\n",
        "  return dataset\n",
        "\n",
        "# generate datasets\n",
        "train_dataset = get_dataset(train_data_arr, train_lengths, window_size=60)\n",
        "test_dataset = get_dataset(test_data_arr, test_lengths, window_size=60)"
      ],
      "metadata": {
        "id": "K1a4CBIG2QAG"
      },
      "execution_count": 15,
      "outputs": []
    },
    {
      "cell_type": "markdown",
      "source": [
        "Next, we can build the LSTM model. The number of LSTM layers is set to be 2, a medium number that ensures the model complexity and prevents overfitting. We also use a dropout with 0.5 for LSTM layers for regularization. The technique of *pack_padded_sequence* is also utilized to handle early days of a stock (i.e., *t*th day with *t < window_size*)."
      ],
      "metadata": {
        "id": "N2mAc4rpQfht"
      }
    },
    {
      "cell_type": "code",
      "source": [
        "class LSTM(nn.Module):\n",
        "    def __init__(self, input_size, hidden_size, num_layers=2, dropout=0.5):\n",
        "        super(LSTM, self).__init__()\n",
        "\n",
        "        self.input_size = input_size\n",
        "        self.hidden_size = hidden_size\n",
        "        self.num_layers = num_layers\n",
        "\n",
        "        self.linear1 = nn.Linear(self.input_size, self.hidden_size)\n",
        "\n",
        "        self.lstm = nn.LSTM(self.hidden_size, self.hidden_size, num_layers=self.num_layers,\n",
        "                   batch_first=True, dropout=dropout, bidirectional=False)\n",
        "        \n",
        "        self.linear2 = nn.Linear(self.num_layers * self.hidden_size, 1)\n",
        "\n",
        "    def forward(self, x, seq_len):\n",
        "        # x: (batch_size, window_size, num_features)\n",
        "        # seq_len: (batch_size,)\n",
        "        # out: (batch_size,)\n",
        "        batch_size = x.shape[0]\n",
        "        x = nn.ReLU()(self.linear1(x))\n",
        "        packed_x = pack_padded_sequence(x, seq_len.cpu(), batch_first=True, enforce_sorted=False)\n",
        "        _, (h_n, _) = self.lstm(packed_x) # (num_layers, batch_size, hidden_size]\n",
        "        out = h_n.permute(1, 0, 2).reshape(batch_size, -1) # (batch_size, num_layers*hidden_size)\n",
        "        out = self.linear2(out) # (batch_size, 1)\n",
        "        return out.squeeze()"
      ],
      "metadata": {
        "id": "Tc4iEIFvJlPV"
      },
      "execution_count": 16,
      "outputs": []
    },
    {
      "cell_type": "markdown",
      "source": [
        "We can define train and test functions."
      ],
      "metadata": {
        "id": "-SqE7PtuSFoU"
      }
    },
    {
      "cell_type": "code",
      "source": [
        "# train and test function\n",
        "def train(model, device, train_loader, optimizer, criterion, epoch):\n",
        "    model.train()\n",
        "    sum_loss = 0\n",
        "    num_batch_since_log = 0\n",
        "\n",
        "    batches = tqdm(enumerate(train_loader), total=len(train_loader))\n",
        "    batches.set_description(\"Epoch NA: Loss (NA)\")\n",
        "    for batch_idx, (data, src_lengths, target) in batches:\n",
        "        # data: (batch_size, window_size, num_features)\n",
        "        # src_lengths: (batch_size,)\n",
        "        # target: (batch_size,)\n",
        "        data, target = data.to(device), target.to(device)\n",
        "        optimizer.zero_grad()\n",
        "        output = model(data, src_lengths) # (batch_size,)\n",
        "        loss = criterion(output, target)\n",
        "        sum_loss += loss.item()\n",
        "        num_batch_since_log += 1  \n",
        "        loss.backward()\n",
        "        optimizer.step()\n",
        "        ave_loss = sum_loss / num_batch_since_log\n",
        "        batches.set_description(\"Epoch {:d}: Train loss ({:.2e})\".format(epoch, ave_loss))\n",
        "\n",
        "def test(model, device, criterion, test_loader):\n",
        "    model.eval()\n",
        "    test_loss = 0\n",
        "    num_batch_since_log = 0\n",
        "    with torch.no_grad():\n",
        "        for data, src_lengths, target in test_loader:\n",
        "            data, target = data.to(device), target.to(device)\n",
        "            output = model(data, src_lengths)\n",
        "            test_loss += criterion(output, target).item()\n",
        "            num_batch_since_log += 1\n",
        "\n",
        "    test_loss /= num_batch_since_log\n",
        "    print('\\n Test loss ({:.2e})'.format(test_loss))\n",
        "    return test_loss"
      ],
      "metadata": {
        "id": "ARu2eV2RKtFG"
      },
      "execution_count": 19,
      "outputs": []
    },
    {
      "cell_type": "markdown",
      "source": [
        "We define hyperparameters and do the training."
      ],
      "metadata": {
        "id": "U5_78AILSNkg"
      }
    },
    {
      "cell_type": "code",
      "source": [
        "# hyperparameters\n",
        "args = dict()\n",
        "args[\"seed\"] = 27456\n",
        "args[\"batch_size\"] = 256\n",
        "args[\"epochs\"] = 5\n",
        "args[\"lr\"] = 5e-5\n",
        "args[\"input_size\"] = 6\n",
        "args[\"hidden_size\"] = 16\n",
        "\n",
        "torch.manual_seed(args[\"seed\"])\n",
        "use_cuda = torch.cuda.is_available()\n",
        "device = torch.device(\"cuda\" if use_cuda else \"cpu\")\n",
        "# kwargs = {'num_workers': 1, 'pin_memory': True} if use_cuda else {}\n",
        "\n",
        "# build model, optimizer, and criterion\n",
        "model = LSTM(input_size=args[\"input_size\"], hidden_size=args[\"hidden_size\"]).to(device)\n",
        "optimizer = optim.Adam(model.parameters(), lr=args[\"lr\"])\n",
        "criterion = nn.MSELoss()\n",
        "\n",
        "# define train and test loader\n",
        "train_loader = data_utils.DataLoader(train_dataset, batch_size=args[\"batch_size\"], shuffle=True)\n",
        "test_loader = data_utils.DataLoader(test_dataset, batch_size=args[\"batch_size\"], shuffle=True)\n",
        "\n",
        "# train and test the model\n",
        "for epoch in range(1, args[\"epochs\"] + 1):\n",
        "    train(model, device, train_loader, optimizer, criterion, epoch)\n",
        "    test_loss = test(model, device, criterion, test_loader)\n",
        "\n",
        "model_wts = copy.deepcopy(model.state_dict())\n",
        "save_dir = \"/content/drive/MyDrive/best_weights\"\n",
        "torch.save(model_wts, os.path.join(save_dir, 'LSTM_weights.pt'))"
      ],
      "metadata": {
        "id": "5SbFk6vDMBJM",
        "colab": {
          "base_uri": "https://localhost:8080/"
        },
        "outputId": "b5eee219-44fc-4b9a-9ee1-630c8d27b50e"
      },
      "execution_count": 37,
      "outputs": [
        {
          "output_type": "stream",
          "name": "stderr",
          "text": [
            "Epoch 1: Train loss (5.71e-01): 100%|██████████| 6852/6852 [01:12<00:00, 94.65it/s]\n"
          ]
        },
        {
          "output_type": "stream",
          "name": "stdout",
          "text": [
            "\n",
            " Test loss (8.77e-02)\n"
          ]
        },
        {
          "output_type": "stream",
          "name": "stderr",
          "text": [
            "Epoch 2: Train loss (3.34e-01): 100%|██████████| 6852/6852 [01:14<00:00, 92.37it/s]\n"
          ]
        },
        {
          "output_type": "stream",
          "name": "stdout",
          "text": [
            "\n",
            " Test loss (8.02e-02)\n"
          ]
        },
        {
          "output_type": "stream",
          "name": "stderr",
          "text": [
            "Epoch 3: Train loss (2.81e-01): 100%|██████████| 6852/6852 [01:11<00:00, 95.29it/s]\n"
          ]
        },
        {
          "output_type": "stream",
          "name": "stdout",
          "text": [
            "\n",
            " Test loss (7.79e-02)\n"
          ]
        },
        {
          "output_type": "stream",
          "name": "stderr",
          "text": [
            "Epoch 4: Train loss (2.56e-01): 100%|██████████| 6852/6852 [01:12<00:00, 94.82it/s]\n"
          ]
        },
        {
          "output_type": "stream",
          "name": "stdout",
          "text": [
            "\n",
            " Test loss (7.72e-02)\n"
          ]
        },
        {
          "output_type": "stream",
          "name": "stderr",
          "text": [
            "Epoch 5: Train loss (2.42e-01): 100%|██████████| 6852/6852 [01:11<00:00, 95.73it/s]\n"
          ]
        },
        {
          "output_type": "stream",
          "name": "stdout",
          "text": [
            "\n",
            " Test loss (7.57e-02)\n"
          ]
        }
      ]
    },
    {
      "cell_type": "markdown",
      "source": [
        "Then we can predict volumes of 2016-2020 for each stock, which will be a (len(test_dataset),) array."
      ],
      "metadata": {
        "id": "YOtQtAlB0FRp"
      }
    },
    {
      "cell_type": "code",
      "source": [
        "# vlm_pred: (len(test_dataset),) array recording predicted volumes for 2016-2020\n",
        "test_loader = data_utils.DataLoader(test_dataset, batch_size=args[\"batch_size\"], shuffle=False)\n",
        "model.eval()\n",
        "vlm_pred = []\n",
        "for data, src_lengths, _ in test_loader:\n",
        "  data = data.to(device)\n",
        "  vlm_pred.append(model(data, src_lengths).detach().cpu().numpy())\n",
        "vlm_pred = np.concatenate(vlm_pred, axis=0)\n",
        "vlm_pred = (vlm_pred * scaler.sd['volume']) + scaler.mu['volume']"
      ],
      "metadata": {
        "id": "iiz4sjQR6Xh_"
      },
      "execution_count": 38,
      "outputs": []
    },
    {
      "cell_type": "markdown",
      "source": [
        "For baseline, we add *vlm_pred_naive*, the prediction using EWMA with halftime 60, and *vlm_simple_copy*, the simple copy of the previous day's data, as two columns. We then add *vlm_pred* as a new column in *test_data*, add also calculate *y = volume/vlm_pred_naive - 1*, *x0 = vlm_simple_copy/vlm_pred_naive - 1*, and *x = vlm_pred/vlm_pred_naive - 1* as three new columns."
      ],
      "metadata": {
        "id": "KAgTQKhd18O5"
      }
    },
    {
      "cell_type": "code",
      "source": [
        "test_data_with_pred = test_data.reset_index().set_index(['date']).groupby('uspn').\\\n",
        "            apply(lambda group: group.iloc[1:, :]).drop(columns=['uspn'])\n",
        "test_data_with_pred = (test_data_with_pred * scaler.sd) + scaler.mu\n",
        "\n",
        "test_data_with_pred['vlm_pred_naive'] = data_with_pred['vlm_pred_naive']\n",
        "test_data_with_pred['vlm_simple_copy'] = data_simple_copy['vlm_pred_naive']\n",
        "test_data_with_pred['vlm_pred'] = vlm_pred\n",
        "test_data_with_pred['y'] = test_data_with_pred['volume'] / test_data_with_pred['vlm_pred_naive'] - 1 \n",
        "test_data_with_pred['x0'] = test_data_with_pred['vlm_simple_copy'] / test_data_with_pred['vlm_pred_naive'] - 1\n",
        "test_data_with_pred['x'] = test_data_with_pred['vlm_pred'] / test_data_with_pred['vlm_pred_naive'] - 1\n",
        "\n",
        "test_data_with_pred"
      ],
      "metadata": {
        "id": "OZhZQMHt1o1a",
        "colab": {
          "base_uri": "https://localhost:8080/",
          "height": 499
        },
        "outputId": "99e1094a-ef18-4c62-be26-3b930daa290f"
      },
      "execution_count": 39,
      "outputs": [
        {
          "output_type": "execute_result",
          "data": {
            "text/plain": [
              "                  price_adj  price_close  price_open  price_high   price_low  \\\n",
              "uspn date                                                                      \n",
              "A    2016-01-05   38.954754    40.549999   40.730000   40.950001   40.340000   \n",
              "     2016-01-06   39.127674    40.730000   40.240002   40.990002   40.049999   \n",
              "     2016-01-07   37.465733    39.000000   40.139999   40.150002   38.810001   \n",
              "     2016-01-08   37.071869    38.590000   39.220001   39.709999   38.470001   \n",
              "     2016-01-11   36.447437    37.939999   38.709999   38.900002   37.410000   \n",
              "...                     ...          ...         ...         ...         ...   \n",
              "ZTS  2019-12-24  132.513702   132.919998  132.210007  133.080002  131.289993   \n",
              "     2019-12-26  132.623352   133.029999  133.190002  133.190002  132.320007   \n",
              "     2019-12-27  132.842697   133.250000  133.399994  133.479996  132.380005   \n",
              "     2019-12-30  131.805878   132.210007  133.570007  133.660004  131.809998   \n",
              "     2019-12-31  131.945450   132.350006  132.009995  132.580002  131.449997   \n",
              "\n",
              "                    volume  sp_weight   ret_raw  vlm_pred_naive  \\\n",
              "uspn date                                                         \n",
              "A    2016-01-05  2587200.0   0.096007 -0.003441    2.721387e+06   \n",
              "     2016-01-06  2103600.0   0.096007  0.004439    2.719846e+06   \n",
              "     2016-01-07  3504300.0   0.096007 -0.042475    2.712768e+06   \n",
              "     2016-01-08  3736700.0   0.096007 -0.010513    2.721859e+06   \n",
              "     2016-01-11  2818400.0   0.096007 -0.016844    2.733516e+06   \n",
              "...                    ...        ...       ...             ...   \n",
              "ZTS  2019-12-24   442500.0   0.240081  0.004155    2.135535e+06   \n",
              "     2019-12-26   929400.0   0.240081  0.000827    2.116089e+06   \n",
              "     2019-12-27  1296100.0   0.240081  0.001654    2.102459e+06   \n",
              "     2019-12-30   942000.0   0.240081 -0.007805    2.093197e+06   \n",
              "     2019-12-31  1128600.0   0.240081  0.001059    2.079974e+06   \n",
              "\n",
              "                 vlm_simple_copy    vlm_pred         y        x0         x  \n",
              "uspn date                                                                   \n",
              "A    2016-01-05     3.285506e+06  6008428.50 -0.049308  0.207291  1.207855  \n",
              "     2016-01-06     2.587882e+06  4798897.00 -0.226574 -0.048519  0.764400  \n",
              "     2016-01-07     2.104073e+06  4088340.75  0.291780 -0.224382  0.507074  \n",
              "     2016-01-08     3.502933e+06  4548287.50  0.372848  0.286963  0.671022  \n",
              "     2016-01-11     3.736472e+06  4645793.00  0.031053  0.366911  0.699567  \n",
              "...                          ...         ...       ...       ...       ...  \n",
              "ZTS  2019-12-24     1.635898e+06  2022331.75 -0.792792 -0.233963 -0.053009  \n",
              "     2019-12-26     4.436654e+05  1182804.00 -0.560794 -0.790337 -0.441042  \n",
              "     2019-12-27     9.289256e+05  1037256.75 -0.383531 -0.558172 -0.506646  \n",
              "     2019-12-30     1.295741e+06  1098483.75 -0.549971 -0.380975 -0.475212  \n",
              "     2019-12-31     9.423455e+05  1043057.25 -0.457397 -0.546944 -0.498524  \n",
              "\n",
              "[495482 rows x 14 columns]"
            ],
            "text/html": [
              "\n",
              "  <div id=\"df-6c6495dc-9798-4223-9efd-d4dc096856b0\">\n",
              "    <div class=\"colab-df-container\">\n",
              "      <div>\n",
              "<style scoped>\n",
              "    .dataframe tbody tr th:only-of-type {\n",
              "        vertical-align: middle;\n",
              "    }\n",
              "\n",
              "    .dataframe tbody tr th {\n",
              "        vertical-align: top;\n",
              "    }\n",
              "\n",
              "    .dataframe thead th {\n",
              "        text-align: right;\n",
              "    }\n",
              "</style>\n",
              "<table border=\"1\" class=\"dataframe\">\n",
              "  <thead>\n",
              "    <tr style=\"text-align: right;\">\n",
              "      <th></th>\n",
              "      <th></th>\n",
              "      <th>price_adj</th>\n",
              "      <th>price_close</th>\n",
              "      <th>price_open</th>\n",
              "      <th>price_high</th>\n",
              "      <th>price_low</th>\n",
              "      <th>volume</th>\n",
              "      <th>sp_weight</th>\n",
              "      <th>ret_raw</th>\n",
              "      <th>vlm_pred_naive</th>\n",
              "      <th>vlm_simple_copy</th>\n",
              "      <th>vlm_pred</th>\n",
              "      <th>y</th>\n",
              "      <th>x0</th>\n",
              "      <th>x</th>\n",
              "    </tr>\n",
              "    <tr>\n",
              "      <th>uspn</th>\n",
              "      <th>date</th>\n",
              "      <th></th>\n",
              "      <th></th>\n",
              "      <th></th>\n",
              "      <th></th>\n",
              "      <th></th>\n",
              "      <th></th>\n",
              "      <th></th>\n",
              "      <th></th>\n",
              "      <th></th>\n",
              "      <th></th>\n",
              "      <th></th>\n",
              "      <th></th>\n",
              "      <th></th>\n",
              "      <th></th>\n",
              "    </tr>\n",
              "  </thead>\n",
              "  <tbody>\n",
              "    <tr>\n",
              "      <th rowspan=\"5\" valign=\"top\">A</th>\n",
              "      <th>2016-01-05</th>\n",
              "      <td>38.954754</td>\n",
              "      <td>40.549999</td>\n",
              "      <td>40.730000</td>\n",
              "      <td>40.950001</td>\n",
              "      <td>40.340000</td>\n",
              "      <td>2587200.0</td>\n",
              "      <td>0.096007</td>\n",
              "      <td>-0.003441</td>\n",
              "      <td>2.721387e+06</td>\n",
              "      <td>3.285506e+06</td>\n",
              "      <td>6008428.50</td>\n",
              "      <td>-0.049308</td>\n",
              "      <td>0.207291</td>\n",
              "      <td>1.207855</td>\n",
              "    </tr>\n",
              "    <tr>\n",
              "      <th>2016-01-06</th>\n",
              "      <td>39.127674</td>\n",
              "      <td>40.730000</td>\n",
              "      <td>40.240002</td>\n",
              "      <td>40.990002</td>\n",
              "      <td>40.049999</td>\n",
              "      <td>2103600.0</td>\n",
              "      <td>0.096007</td>\n",
              "      <td>0.004439</td>\n",
              "      <td>2.719846e+06</td>\n",
              "      <td>2.587882e+06</td>\n",
              "      <td>4798897.00</td>\n",
              "      <td>-0.226574</td>\n",
              "      <td>-0.048519</td>\n",
              "      <td>0.764400</td>\n",
              "    </tr>\n",
              "    <tr>\n",
              "      <th>2016-01-07</th>\n",
              "      <td>37.465733</td>\n",
              "      <td>39.000000</td>\n",
              "      <td>40.139999</td>\n",
              "      <td>40.150002</td>\n",
              "      <td>38.810001</td>\n",
              "      <td>3504300.0</td>\n",
              "      <td>0.096007</td>\n",
              "      <td>-0.042475</td>\n",
              "      <td>2.712768e+06</td>\n",
              "      <td>2.104073e+06</td>\n",
              "      <td>4088340.75</td>\n",
              "      <td>0.291780</td>\n",
              "      <td>-0.224382</td>\n",
              "      <td>0.507074</td>\n",
              "    </tr>\n",
              "    <tr>\n",
              "      <th>2016-01-08</th>\n",
              "      <td>37.071869</td>\n",
              "      <td>38.590000</td>\n",
              "      <td>39.220001</td>\n",
              "      <td>39.709999</td>\n",
              "      <td>38.470001</td>\n",
              "      <td>3736700.0</td>\n",
              "      <td>0.096007</td>\n",
              "      <td>-0.010513</td>\n",
              "      <td>2.721859e+06</td>\n",
              "      <td>3.502933e+06</td>\n",
              "      <td>4548287.50</td>\n",
              "      <td>0.372848</td>\n",
              "      <td>0.286963</td>\n",
              "      <td>0.671022</td>\n",
              "    </tr>\n",
              "    <tr>\n",
              "      <th>2016-01-11</th>\n",
              "      <td>36.447437</td>\n",
              "      <td>37.939999</td>\n",
              "      <td>38.709999</td>\n",
              "      <td>38.900002</td>\n",
              "      <td>37.410000</td>\n",
              "      <td>2818400.0</td>\n",
              "      <td>0.096007</td>\n",
              "      <td>-0.016844</td>\n",
              "      <td>2.733516e+06</td>\n",
              "      <td>3.736472e+06</td>\n",
              "      <td>4645793.00</td>\n",
              "      <td>0.031053</td>\n",
              "      <td>0.366911</td>\n",
              "      <td>0.699567</td>\n",
              "    </tr>\n",
              "    <tr>\n",
              "      <th>...</th>\n",
              "      <th>...</th>\n",
              "      <td>...</td>\n",
              "      <td>...</td>\n",
              "      <td>...</td>\n",
              "      <td>...</td>\n",
              "      <td>...</td>\n",
              "      <td>...</td>\n",
              "      <td>...</td>\n",
              "      <td>...</td>\n",
              "      <td>...</td>\n",
              "      <td>...</td>\n",
              "      <td>...</td>\n",
              "      <td>...</td>\n",
              "      <td>...</td>\n",
              "      <td>...</td>\n",
              "    </tr>\n",
              "    <tr>\n",
              "      <th rowspan=\"5\" valign=\"top\">ZTS</th>\n",
              "      <th>2019-12-24</th>\n",
              "      <td>132.513702</td>\n",
              "      <td>132.919998</td>\n",
              "      <td>132.210007</td>\n",
              "      <td>133.080002</td>\n",
              "      <td>131.289993</td>\n",
              "      <td>442500.0</td>\n",
              "      <td>0.240081</td>\n",
              "      <td>0.004155</td>\n",
              "      <td>2.135535e+06</td>\n",
              "      <td>1.635898e+06</td>\n",
              "      <td>2022331.75</td>\n",
              "      <td>-0.792792</td>\n",
              "      <td>-0.233963</td>\n",
              "      <td>-0.053009</td>\n",
              "    </tr>\n",
              "    <tr>\n",
              "      <th>2019-12-26</th>\n",
              "      <td>132.623352</td>\n",
              "      <td>133.029999</td>\n",
              "      <td>133.190002</td>\n",
              "      <td>133.190002</td>\n",
              "      <td>132.320007</td>\n",
              "      <td>929400.0</td>\n",
              "      <td>0.240081</td>\n",
              "      <td>0.000827</td>\n",
              "      <td>2.116089e+06</td>\n",
              "      <td>4.436654e+05</td>\n",
              "      <td>1182804.00</td>\n",
              "      <td>-0.560794</td>\n",
              "      <td>-0.790337</td>\n",
              "      <td>-0.441042</td>\n",
              "    </tr>\n",
              "    <tr>\n",
              "      <th>2019-12-27</th>\n",
              "      <td>132.842697</td>\n",
              "      <td>133.250000</td>\n",
              "      <td>133.399994</td>\n",
              "      <td>133.479996</td>\n",
              "      <td>132.380005</td>\n",
              "      <td>1296100.0</td>\n",
              "      <td>0.240081</td>\n",
              "      <td>0.001654</td>\n",
              "      <td>2.102459e+06</td>\n",
              "      <td>9.289256e+05</td>\n",
              "      <td>1037256.75</td>\n",
              "      <td>-0.383531</td>\n",
              "      <td>-0.558172</td>\n",
              "      <td>-0.506646</td>\n",
              "    </tr>\n",
              "    <tr>\n",
              "      <th>2019-12-30</th>\n",
              "      <td>131.805878</td>\n",
              "      <td>132.210007</td>\n",
              "      <td>133.570007</td>\n",
              "      <td>133.660004</td>\n",
              "      <td>131.809998</td>\n",
              "      <td>942000.0</td>\n",
              "      <td>0.240081</td>\n",
              "      <td>-0.007805</td>\n",
              "      <td>2.093197e+06</td>\n",
              "      <td>1.295741e+06</td>\n",
              "      <td>1098483.75</td>\n",
              "      <td>-0.549971</td>\n",
              "      <td>-0.380975</td>\n",
              "      <td>-0.475212</td>\n",
              "    </tr>\n",
              "    <tr>\n",
              "      <th>2019-12-31</th>\n",
              "      <td>131.945450</td>\n",
              "      <td>132.350006</td>\n",
              "      <td>132.009995</td>\n",
              "      <td>132.580002</td>\n",
              "      <td>131.449997</td>\n",
              "      <td>1128600.0</td>\n",
              "      <td>0.240081</td>\n",
              "      <td>0.001059</td>\n",
              "      <td>2.079974e+06</td>\n",
              "      <td>9.423455e+05</td>\n",
              "      <td>1043057.25</td>\n",
              "      <td>-0.457397</td>\n",
              "      <td>-0.546944</td>\n",
              "      <td>-0.498524</td>\n",
              "    </tr>\n",
              "  </tbody>\n",
              "</table>\n",
              "<p>495482 rows × 14 columns</p>\n",
              "</div>\n",
              "      <button class=\"colab-df-convert\" onclick=\"convertToInteractive('df-6c6495dc-9798-4223-9efd-d4dc096856b0')\"\n",
              "              title=\"Convert this dataframe to an interactive table.\"\n",
              "              style=\"display:none;\">\n",
              "        \n",
              "  <svg xmlns=\"http://www.w3.org/2000/svg\" height=\"24px\"viewBox=\"0 0 24 24\"\n",
              "       width=\"24px\">\n",
              "    <path d=\"M0 0h24v24H0V0z\" fill=\"none\"/>\n",
              "    <path d=\"M18.56 5.44l.94 2.06.94-2.06 2.06-.94-2.06-.94-.94-2.06-.94 2.06-2.06.94zm-11 1L8.5 8.5l.94-2.06 2.06-.94-2.06-.94L8.5 2.5l-.94 2.06-2.06.94zm10 10l.94 2.06.94-2.06 2.06-.94-2.06-.94-.94-2.06-.94 2.06-2.06.94z\"/><path d=\"M17.41 7.96l-1.37-1.37c-.4-.4-.92-.59-1.43-.59-.52 0-1.04.2-1.43.59L10.3 9.45l-7.72 7.72c-.78.78-.78 2.05 0 2.83L4 21.41c.39.39.9.59 1.41.59.51 0 1.02-.2 1.41-.59l7.78-7.78 2.81-2.81c.8-.78.8-2.07 0-2.86zM5.41 20L4 18.59l7.72-7.72 1.47 1.35L5.41 20z\"/>\n",
              "  </svg>\n",
              "      </button>\n",
              "      \n",
              "  <style>\n",
              "    .colab-df-container {\n",
              "      display:flex;\n",
              "      flex-wrap:wrap;\n",
              "      gap: 12px;\n",
              "    }\n",
              "\n",
              "    .colab-df-convert {\n",
              "      background-color: #E8F0FE;\n",
              "      border: none;\n",
              "      border-radius: 50%;\n",
              "      cursor: pointer;\n",
              "      display: none;\n",
              "      fill: #1967D2;\n",
              "      height: 32px;\n",
              "      padding: 0 0 0 0;\n",
              "      width: 32px;\n",
              "    }\n",
              "\n",
              "    .colab-df-convert:hover {\n",
              "      background-color: #E2EBFA;\n",
              "      box-shadow: 0px 1px 2px rgba(60, 64, 67, 0.3), 0px 1px 3px 1px rgba(60, 64, 67, 0.15);\n",
              "      fill: #174EA6;\n",
              "    }\n",
              "\n",
              "    [theme=dark] .colab-df-convert {\n",
              "      background-color: #3B4455;\n",
              "      fill: #D2E3FC;\n",
              "    }\n",
              "\n",
              "    [theme=dark] .colab-df-convert:hover {\n",
              "      background-color: #434B5C;\n",
              "      box-shadow: 0px 1px 3px 1px rgba(0, 0, 0, 0.15);\n",
              "      filter: drop-shadow(0px 1px 2px rgba(0, 0, 0, 0.3));\n",
              "      fill: #FFFFFF;\n",
              "    }\n",
              "  </style>\n",
              "\n",
              "      <script>\n",
              "        const buttonEl =\n",
              "          document.querySelector('#df-6c6495dc-9798-4223-9efd-d4dc096856b0 button.colab-df-convert');\n",
              "        buttonEl.style.display =\n",
              "          google.colab.kernel.accessAllowed ? 'block' : 'none';\n",
              "\n",
              "        async function convertToInteractive(key) {\n",
              "          const element = document.querySelector('#df-6c6495dc-9798-4223-9efd-d4dc096856b0');\n",
              "          const dataTable =\n",
              "            await google.colab.kernel.invokeFunction('convertToInteractive',\n",
              "                                                     [key], {});\n",
              "          if (!dataTable) return;\n",
              "\n",
              "          const docLinkHtml = 'Like what you see? Visit the ' +\n",
              "            '<a target=\"_blank\" href=https://colab.research.google.com/notebooks/data_table.ipynb>data table notebook</a>'\n",
              "            + ' to learn more about interactive tables.';\n",
              "          element.innerHTML = '';\n",
              "          dataTable['output_type'] = 'display_data';\n",
              "          await google.colab.output.renderOutput(dataTable, element);\n",
              "          const docLink = document.createElement('div');\n",
              "          docLink.innerHTML = docLinkHtml;\n",
              "          element.appendChild(docLink);\n",
              "        }\n",
              "      </script>\n",
              "    </div>\n",
              "  </div>\n",
              "  "
            ]
          },
          "metadata": {},
          "execution_count": 39
        }
      ]
    },
    {
      "cell_type": "markdown",
      "source": [
        "We first scatter *vlm_simple_copy* versus *volume* and do the linear regression, as a base line."
      ],
      "metadata": {
        "id": "YeVke3YD2YWx"
      }
    },
    {
      "cell_type": "code",
      "source": [
        "plt.scatter(test_data_with_pred['volume'].to_numpy(), test_data_with_pred['vlm_simple_copy'].to_numpy())\n",
        "plt.xlabel('volume')\n",
        "plt.ylabel('vlm_simple_copy')\n",
        "plt.title('scatter vlm_simple_copy v.s. volume')"
      ],
      "metadata": {
        "id": "icrkU8reeE1H",
        "colab": {
          "base_uri": "https://localhost:8080/",
          "height": 313
        },
        "outputId": "b2c0366a-ee03-46a1-c37a-2e9cd33005d3"
      },
      "execution_count": 41,
      "outputs": [
        {
          "output_type": "execute_result",
          "data": {
            "text/plain": [
              "Text(0.5, 1.0, 'scatter vlm_simple_copy v.s. volume')"
            ]
          },
          "metadata": {},
          "execution_count": 41
        },
        {
          "output_type": "display_data",
          "data": {
            "text/plain": [
              "<Figure size 432x288 with 1 Axes>"
            ],
            "image/png": "[encoded data removed]"
          },
          "metadata": {
            "needs_background": "light"
          }
        }
      ]
    },
    {
      "cell_type": "code",
      "source": [
        "result = sm.wls(formula=\"vlm_simple_copy ~ volume\", data=test_data_with_pred,\n",
        "         weights=test_data_with_pred['sp_weight'].to_numpy()).fit()\n",
        "result.summary()"
      ],
      "metadata": {
        "colab": {
          "base_uri": "https://localhost:8080/",
          "height": 486
        },
        "id": "gIqwLPaboMZY",
        "outputId": "7ae9b5ce-b352-4678-ada4-5e89b9fbfce8"
      },
      "execution_count": 24,
      "outputs": [
        {
          "output_type": "execute_result",
          "data": {
            "text/plain": [
              "<class 'statsmodels.iolib.summary.Summary'>\n",
              "\"\"\"\n",
              "                            WLS Regression Results                            \n",
              "==============================================================================\n",
              "Dep. Variable:        vlm_simple_copy   R-squared:                       0.786\n",
              "Model:                            WLS   Adj. R-squared:                  0.786\n",
              "Method:                 Least Squares   F-statistic:                 1.821e+06\n",
              "Date:                Wed, 09 Nov 2022   Prob (F-statistic):               0.00\n",
              "Time:                        19:31:35   Log-Likelihood:            -8.6463e+06\n",
              "No. Observations:              495482   AIC:                         1.729e+07\n",
              "Df Residuals:                  495480   BIC:                         1.729e+07\n",
              "Df Model:                           1                                         \n",
              "Covariance Type:            nonrobust                                         \n",
              "==============================================================================\n",
              "                 coef    std err          t      P>|t|      [0.025      0.975]\n",
              "------------------------------------------------------------------------------\n",
              "Intercept    1.05e+06   1.11e+04     94.552      0.000    1.03e+06    1.07e+06\n",
              "volume         0.8873      0.001   1349.492      0.000       0.886       0.889\n",
              "==============================================================================\n",
              "Omnibus:                   572696.766   Durbin-Watson:                   2.481\n",
              "Prob(Omnibus):                  0.000   Jarque-Bera (JB):       8801911873.111\n",
              "Skew:                           4.526   Prob(JB):                         0.00\n",
              "Kurtosis:                     655.888   Cond. No.                     2.02e+07\n",
              "==============================================================================\n",
              "\n",
              "Notes:\n",
              "[1] Standard Errors assume that the covariance matrix of the errors is correctly specified.\n",
              "[2] The condition number is large, 2.02e+07. This might indicate that there are\n",
              "strong multicollinearity or other numerical problems.\n",
              "\"\"\""
            ],
            "text/html": [
              "<table class=\"simpletable\">\n",
              "<caption>WLS Regression Results</caption>\n",
              "<tr>\n",
              "  <th>Dep. Variable:</th>     <td>vlm_simple_copy</td> <th>  R-squared:         </th>  <td>   0.786</td>  \n",
              "</tr>\n",
              "<tr>\n",
              "  <th>Model:</th>                   <td>WLS</td>       <th>  Adj. R-squared:    </th>  <td>   0.786</td>  \n",
              "</tr>\n",
              "<tr>\n",
              "  <th>Method:</th>             <td>Least Squares</td>  <th>  F-statistic:       </th>  <td>1.821e+06</td> \n",
              "</tr>\n",
              "<tr>\n",
              "  <th>Date:</th>             <td>Wed, 09 Nov 2022</td> <th>  Prob (F-statistic):</th>   <td>  0.00</td>   \n",
              "</tr>\n",
              "<tr>\n",
              "  <th>Time:</th>                 <td>19:31:35</td>     <th>  Log-Likelihood:    </th> <td>-8.6463e+06</td>\n",
              "</tr>\n",
              "<tr>\n",
              "  <th>No. Observations:</th>      <td>495482</td>      <th>  AIC:               </th>  <td>1.729e+07</td> \n",
              "</tr>\n",
              "<tr>\n",
              "  <th>Df Residuals:</th>          <td>495480</td>      <th>  BIC:               </th>  <td>1.729e+07</td> \n",
              "</tr>\n",
              "<tr>\n",
              "  <th>Df Model:</th>              <td>     1</td>      <th>                     </th>      <td> </td>     \n",
              "</tr>\n",
              "<tr>\n",
              "  <th>Covariance Type:</th>      <td>nonrobust</td>    <th>                     </th>      <td> </td>     \n",
              "</tr>\n",
              "</table>\n",
              "<table class=\"simpletable\">\n",
              "<tr>\n",
              "      <td></td>         <th>coef</th>     <th>std err</th>      <th>t</th>      <th>P>|t|</th>  <th>[0.025</th>    <th>0.975]</th>  \n",
              "</tr>\n",
              "<tr>\n",
              "  <th>Intercept</th> <td>  1.05e+06</td> <td> 1.11e+04</td> <td>   94.552</td> <td> 0.000</td> <td> 1.03e+06</td> <td> 1.07e+06</td>\n",
              "</tr>\n",
              "<tr>\n",
              "  <th>volume</th>    <td>    0.8873</td> <td>    0.001</td> <td> 1349.492</td> <td> 0.000</td> <td>    0.886</td> <td>    0.889</td>\n",
              "</tr>\n",
              "</table>\n",
              "<table class=\"simpletable\">\n",
              "<tr>\n",
              "  <th>Omnibus:</th>       <td>572696.766</td> <th>  Durbin-Watson:     </th>    <td>   2.481</td>   \n",
              "</tr>\n",
              "<tr>\n",
              "  <th>Prob(Omnibus):</th>   <td> 0.000</td>   <th>  Jarque-Bera (JB):  </th> <td>8801911873.111</td>\n",
              "</tr>\n",
              "<tr>\n",
              "  <th>Skew:</th>            <td> 4.526</td>   <th>  Prob(JB):          </th>    <td>    0.00</td>   \n",
              "</tr>\n",
              "<tr>\n",
              "  <th>Kurtosis:</th>        <td>655.888</td>  <th>  Cond. No.          </th>    <td>2.02e+07</td>   \n",
              "</tr>\n",
              "</table><br/><br/>Notes:<br/>[1] Standard Errors assume that the covariance matrix of the errors is correctly specified.<br/>[2] The condition number is large, 2.02e+07. This might indicate that there are<br/>strong multicollinearity or other numerical problems."
            ]
          },
          "metadata": {},
          "execution_count": 24
        }
      ]
    },
    {
      "cell_type": "markdown",
      "source": [
        "We see that the $R^2$ metrics is 0.786, and the coefficient is 0.8873 with t-stat 1349.492.\n",
        "\n",
        "Then, we scatter *vlm_pred* versus *volume* and do the linear regression."
      ],
      "metadata": {
        "id": "Rfs794kN-2Au"
      }
    },
    {
      "cell_type": "code",
      "source": [
        "plt.scatter(test_data_with_pred['volume'].to_numpy(), test_data_with_pred['vlm_pred'].to_numpy())\n",
        "plt.xlabel('volume')\n",
        "plt.ylabel('vlm_pred')\n",
        "plt.title('scatter vlm_pred v.s. volume')"
      ],
      "metadata": {
        "id": "uOQewRMoh3A2",
        "colab": {
          "base_uri": "https://localhost:8080/",
          "height": 313
        },
        "outputId": "31cc33cd-9143-4199-ce28-4333bf452061"
      },
      "execution_count": 42,
      "outputs": [
        {
          "output_type": "execute_result",
          "data": {
            "text/plain": [
              "Text(0.5, 1.0, 'scatter vlm_pred v.s. volume')"
            ]
          },
          "metadata": {},
          "execution_count": 42
        },
        {
          "output_type": "display_data",
          "data": {
            "text/plain": [
              "<Figure size 432x288 with 1 Axes>"
            ],
            "image/png": "[encoded data removed]"
          },
          "metadata": {
            "needs_background": "light"
          }
        }
      ]
    },
    {
      "cell_type": "code",
      "source": [
        "result = sm.wls(formula=\"vlm_pred ~ volume\", data=test_data_with_pred,\n",
        "         weights=test_data_with_pred['sp_weight'].to_numpy()).fit()\n",
        "result.summary()"
      ],
      "metadata": {
        "colab": {
          "base_uri": "https://localhost:8080/",
          "height": 486
        },
        "id": "HVDAUR7Cn5Jn",
        "outputId": "4c67b6a0-027f-4f8f-83a0-325657fd6a61"
      },
      "execution_count": 43,
      "outputs": [
        {
          "output_type": "execute_result",
          "data": {
            "text/plain": [
              "<class 'statsmodels.iolib.summary.Summary'>\n",
              "\"\"\"\n",
              "                            WLS Regression Results                            \n",
              "==============================================================================\n",
              "Dep. Variable:               vlm_pred   R-squared:                       0.818\n",
              "Model:                            WLS   Adj. R-squared:                  0.818\n",
              "Method:                 Least Squares   F-statistic:                 2.222e+06\n",
              "Date:                Wed, 09 Nov 2022   Prob (F-statistic):               0.00\n",
              "Time:                        19:48:11   Log-Likelihood:            -8.5821e+06\n",
              "No. Observations:              495482   AIC:                         1.716e+07\n",
              "Df Residuals:                  495480   BIC:                         1.716e+07\n",
              "Df Model:                           1                                         \n",
              "Covariance Type:            nonrobust                                         \n",
              "==============================================================================\n",
              "                 coef    std err          t      P>|t|      [0.025      0.975]\n",
              "------------------------------------------------------------------------------\n",
              "Intercept   1.132e+06   9750.386    116.049      0.000    1.11e+06    1.15e+06\n",
              "volume         0.8610      0.001   1490.781      0.000       0.860       0.862\n",
              "==============================================================================\n",
              "Omnibus:                   543945.308   Durbin-Watson:                   1.630\n",
              "Prob(Omnibus):                  0.000   Jarque-Bera (JB):       6132274342.410\n",
              "Skew:                          -4.118   Prob(JB):                         0.00\n",
              "Kurtosis:                     547.945   Cond. No.                     2.02e+07\n",
              "==============================================================================\n",
              "\n",
              "Notes:\n",
              "[1] Standard Errors assume that the covariance matrix of the errors is correctly specified.\n",
              "[2] The condition number is large, 2.02e+07. This might indicate that there are\n",
              "strong multicollinearity or other numerical problems.\n",
              "\"\"\""
            ],
            "text/html": [
              "<table class=\"simpletable\">\n",
              "<caption>WLS Regression Results</caption>\n",
              "<tr>\n",
              "  <th>Dep. Variable:</th>        <td>vlm_pred</td>     <th>  R-squared:         </th>  <td>   0.818</td>  \n",
              "</tr>\n",
              "<tr>\n",
              "  <th>Model:</th>                   <td>WLS</td>       <th>  Adj. R-squared:    </th>  <td>   0.818</td>  \n",
              "</tr>\n",
              "<tr>\n",
              "  <th>Method:</th>             <td>Least Squares</td>  <th>  F-statistic:       </th>  <td>2.222e+06</td> \n",
              "</tr>\n",
              "<tr>\n",
              "  <th>Date:</th>             <td>Wed, 09 Nov 2022</td> <th>  Prob (F-statistic):</th>   <td>  0.00</td>   \n",
              "</tr>\n",
              "<tr>\n",
              "  <th>Time:</th>                 <td>19:48:11</td>     <th>  Log-Likelihood:    </th> <td>-8.5821e+06</td>\n",
              "</tr>\n",
              "<tr>\n",
              "  <th>No. Observations:</th>      <td>495482</td>      <th>  AIC:               </th>  <td>1.716e+07</td> \n",
              "</tr>\n",
              "<tr>\n",
              "  <th>Df Residuals:</th>          <td>495480</td>      <th>  BIC:               </th>  <td>1.716e+07</td> \n",
              "</tr>\n",
              "<tr>\n",
              "  <th>Df Model:</th>              <td>     1</td>      <th>                     </th>      <td> </td>     \n",
              "</tr>\n",
              "<tr>\n",
              "  <th>Covariance Type:</th>      <td>nonrobust</td>    <th>                     </th>      <td> </td>     \n",
              "</tr>\n",
              "</table>\n",
              "<table class=\"simpletable\">\n",
              "<tr>\n",
              "      <td></td>         <th>coef</th>     <th>std err</th>      <th>t</th>      <th>P>|t|</th>  <th>[0.025</th>    <th>0.975]</th>  \n",
              "</tr>\n",
              "<tr>\n",
              "  <th>Intercept</th> <td> 1.132e+06</td> <td> 9750.386</td> <td>  116.049</td> <td> 0.000</td> <td> 1.11e+06</td> <td> 1.15e+06</td>\n",
              "</tr>\n",
              "<tr>\n",
              "  <th>volume</th>    <td>    0.8610</td> <td>    0.001</td> <td> 1490.781</td> <td> 0.000</td> <td>    0.860</td> <td>    0.862</td>\n",
              "</tr>\n",
              "</table>\n",
              "<table class=\"simpletable\">\n",
              "<tr>\n",
              "  <th>Omnibus:</th>       <td>543945.308</td> <th>  Durbin-Watson:     </th>    <td>   1.630</td>   \n",
              "</tr>\n",
              "<tr>\n",
              "  <th>Prob(Omnibus):</th>   <td> 0.000</td>   <th>  Jarque-Bera (JB):  </th> <td>6132274342.410</td>\n",
              "</tr>\n",
              "<tr>\n",
              "  <th>Skew:</th>            <td>-4.118</td>   <th>  Prob(JB):          </th>    <td>    0.00</td>   \n",
              "</tr>\n",
              "<tr>\n",
              "  <th>Kurtosis:</th>        <td>547.945</td>  <th>  Cond. No.          </th>    <td>2.02e+07</td>   \n",
              "</tr>\n",
              "</table><br/><br/>Notes:<br/>[1] Standard Errors assume that the covariance matrix of the errors is correctly specified.<br/>[2] The condition number is large, 2.02e+07. This might indicate that there are<br/>strong multicollinearity or other numerical problems."
            ]
          },
          "metadata": {},
          "execution_count": 43
        }
      ]
    },
    {
      "cell_type": "markdown",
      "source": [
        "We see that the  $R^2$  metrics is 0.818, and the coefficient is 0.8610 with t-stat 1490.781. From the standpoint of high $R^2$ and high t-stat, it seems that the predicted volumes using learned LSTM produces better results.\n",
        "\n",
        "However, a better method to evaluate the model is to do univariate cross-sectional regression. Here, we regress *y* on *x0* and regress *y* on *x* individually."
      ],
      "metadata": {
        "id": "T29DFOX3_tjO"
      }
    },
    {
      "cell_type": "code",
      "source": [
        "# y ~ x0\n",
        "result = sm.wls(formula=\"y ~ x0\", data=test_data_with_pred,\n",
        "         weights=test_data_with_pred['sp_weight'].to_numpy()).fit()\n",
        "result.summary()"
      ],
      "metadata": {
        "id": "ExRJshsVIbRH",
        "colab": {
          "base_uri": "https://localhost:8080/",
          "height": 451
        },
        "outputId": "8dbcfb9f-1491-4453-a6aa-c85abc792e80"
      },
      "execution_count": 44,
      "outputs": [
        {
          "output_type": "execute_result",
          "data": {
            "text/plain": [
              "<class 'statsmodels.iolib.summary.Summary'>\n",
              "\"\"\"\n",
              "                            WLS Regression Results                            \n",
              "==============================================================================\n",
              "Dep. Variable:                      y   R-squared:                       0.009\n",
              "Model:                            WLS   Adj. R-squared:                  0.009\n",
              "Method:                 Least Squares   F-statistic:                     4527.\n",
              "Date:                Wed, 09 Nov 2022   Prob (F-statistic):               0.00\n",
              "Time:                        19:48:19   Log-Likelihood:            -1.3273e+06\n",
              "No. Observations:              495482   AIC:                         2.655e+06\n",
              "Df Residuals:                  495480   BIC:                         2.655e+06\n",
              "Df Model:                           1                                         \n",
              "Covariance Type:            nonrobust                                         \n",
              "==============================================================================\n",
              "                 coef    std err          t      P>|t|      [0.025      0.975]\n",
              "------------------------------------------------------------------------------\n",
              "Intercept     -0.0054      0.004     -1.510      0.131      -0.012       0.002\n",
              "x0             0.4528      0.007     67.285      0.000       0.440       0.466\n",
              "================================================================================\n",
              "Omnibus:                  3281827.527   Durbin-Watson:                     2.017\n",
              "Prob(Omnibus):                  0.000   Jarque-Bera (JB):   3621921881276880.000\n",
              "Skew:                         624.997   Prob(JB):                           0.00\n",
              "Kurtosis:                  418853.738   Cond. No.                           1.89\n",
              "================================================================================\n",
              "\n",
              "Notes:\n",
              "[1] Standard Errors assume that the covariance matrix of the errors is correctly specified.\n",
              "\"\"\""
            ],
            "text/html": [
              "<table class=\"simpletable\">\n",
              "<caption>WLS Regression Results</caption>\n",
              "<tr>\n",
              "  <th>Dep. Variable:</th>            <td>y</td>        <th>  R-squared:         </th>  <td>   0.009</td>  \n",
              "</tr>\n",
              "<tr>\n",
              "  <th>Model:</th>                   <td>WLS</td>       <th>  Adj. R-squared:    </th>  <td>   0.009</td>  \n",
              "</tr>\n",
              "<tr>\n",
              "  <th>Method:</th>             <td>Least Squares</td>  <th>  F-statistic:       </th>  <td>   4527.</td>  \n",
              "</tr>\n",
              "<tr>\n",
              "  <th>Date:</th>             <td>Wed, 09 Nov 2022</td> <th>  Prob (F-statistic):</th>   <td>  0.00</td>   \n",
              "</tr>\n",
              "<tr>\n",
              "  <th>Time:</th>                 <td>19:48:19</td>     <th>  Log-Likelihood:    </th> <td>-1.3273e+06</td>\n",
              "</tr>\n",
              "<tr>\n",
              "  <th>No. Observations:</th>      <td>495482</td>      <th>  AIC:               </th>  <td>2.655e+06</td> \n",
              "</tr>\n",
              "<tr>\n",
              "  <th>Df Residuals:</th>          <td>495480</td>      <th>  BIC:               </th>  <td>2.655e+06</td> \n",
              "</tr>\n",
              "<tr>\n",
              "  <th>Df Model:</th>              <td>     1</td>      <th>                     </th>      <td> </td>     \n",
              "</tr>\n",
              "<tr>\n",
              "  <th>Covariance Type:</th>      <td>nonrobust</td>    <th>                     </th>      <td> </td>     \n",
              "</tr>\n",
              "</table>\n",
              "<table class=\"simpletable\">\n",
              "<tr>\n",
              "      <td></td>         <th>coef</th>     <th>std err</th>      <th>t</th>      <th>P>|t|</th>  <th>[0.025</th>    <th>0.975]</th>  \n",
              "</tr>\n",
              "<tr>\n",
              "  <th>Intercept</th> <td>   -0.0054</td> <td>    0.004</td> <td>   -1.510</td> <td> 0.131</td> <td>   -0.012</td> <td>    0.002</td>\n",
              "</tr>\n",
              "<tr>\n",
              "  <th>x0</th>        <td>    0.4528</td> <td>    0.007</td> <td>   67.285</td> <td> 0.000</td> <td>    0.440</td> <td>    0.466</td>\n",
              "</tr>\n",
              "</table>\n",
              "<table class=\"simpletable\">\n",
              "<tr>\n",
              "  <th>Omnibus:</th>       <td>3281827.527</td> <th>  Durbin-Watson:     </th>       <td>   2.017</td>      \n",
              "</tr>\n",
              "<tr>\n",
              "  <th>Prob(Omnibus):</th>   <td> 0.000</td>    <th>  Jarque-Bera (JB):  </th> <td>3621921881276880.000</td>\n",
              "</tr>\n",
              "<tr>\n",
              "  <th>Skew:</th>            <td>624.997</td>   <th>  Prob(JB):          </th>       <td>    0.00</td>      \n",
              "</tr>\n",
              "<tr>\n",
              "  <th>Kurtosis:</th>      <td>418853.738</td>  <th>  Cond. No.          </th>       <td>    1.89</td>      \n",
              "</tr>\n",
              "</table><br/><br/>Notes:<br/>[1] Standard Errors assume that the covariance matrix of the errors is correctly specified."
            ]
          },
          "metadata": {},
          "execution_count": 44
        }
      ]
    },
    {
      "cell_type": "code",
      "source": [
        "# y ~ x\n",
        "result = sm.wls(formula=\"y ~ x\", data=test_data_with_pred,\n",
        "         weights=test_data_with_pred['sp_weight'].to_numpy()).fit()\n",
        "result.summary()"
      ],
      "metadata": {
        "colab": {
          "base_uri": "https://localhost:8080/",
          "height": 451
        },
        "id": "YlD061ThBdoO",
        "outputId": "8b1489c7-97d3-4649-cf37-6e958d719d8c"
      },
      "execution_count": 45,
      "outputs": [
        {
          "output_type": "execute_result",
          "data": {
            "text/plain": [
              "<class 'statsmodels.iolib.summary.Summary'>\n",
              "\"\"\"\n",
              "                            WLS Regression Results                            \n",
              "==============================================================================\n",
              "Dep. Variable:                      y   R-squared:                       0.002\n",
              "Model:                            WLS   Adj. R-squared:                  0.002\n",
              "Method:                 Least Squares   F-statistic:                     1092.\n",
              "Date:                Wed, 09 Nov 2022   Prob (F-statistic):          3.66e-239\n",
              "Time:                        19:48:22   Log-Likelihood:            -1.3290e+06\n",
              "No. Observations:              495482   AIC:                         2.658e+06\n",
              "Df Residuals:                  495480   BIC:                         2.658e+06\n",
              "Df Model:                           1                                         \n",
              "Covariance Type:            nonrobust                                         \n",
              "==============================================================================\n",
              "                 coef    std err          t      P>|t|      [0.025      0.975]\n",
              "------------------------------------------------------------------------------\n",
              "Intercept     -0.0134      0.004     -3.748      0.000      -0.020      -0.006\n",
              "x              0.0085      0.000     33.042      0.000       0.008       0.009\n",
              "================================================================================\n",
              "Omnibus:                  3272974.757   Durbin-Watson:                     1.943\n",
              "Prob(Omnibus):                  0.000   Jarque-Bera (JB):   3518903333997240.000\n",
              "Skew:                         618.214   Prob(JB):                           0.00\n",
              "Kurtosis:                  412854.057   Cond. No.                           14.0\n",
              "================================================================================\n",
              "\n",
              "Notes:\n",
              "[1] Standard Errors assume that the covariance matrix of the errors is correctly specified.\n",
              "\"\"\""
            ],
            "text/html": [
              "<table class=\"simpletable\">\n",
              "<caption>WLS Regression Results</caption>\n",
              "<tr>\n",
              "  <th>Dep. Variable:</th>            <td>y</td>        <th>  R-squared:         </th>  <td>   0.002</td>  \n",
              "</tr>\n",
              "<tr>\n",
              "  <th>Model:</th>                   <td>WLS</td>       <th>  Adj. R-squared:    </th>  <td>   0.002</td>  \n",
              "</tr>\n",
              "<tr>\n",
              "  <th>Method:</th>             <td>Least Squares</td>  <th>  F-statistic:       </th>  <td>   1092.</td>  \n",
              "</tr>\n",
              "<tr>\n",
              "  <th>Date:</th>             <td>Wed, 09 Nov 2022</td> <th>  Prob (F-statistic):</th>  <td>3.66e-239</td> \n",
              "</tr>\n",
              "<tr>\n",
              "  <th>Time:</th>                 <td>19:48:22</td>     <th>  Log-Likelihood:    </th> <td>-1.3290e+06</td>\n",
              "</tr>\n",
              "<tr>\n",
              "  <th>No. Observations:</th>      <td>495482</td>      <th>  AIC:               </th>  <td>2.658e+06</td> \n",
              "</tr>\n",
              "<tr>\n",
              "  <th>Df Residuals:</th>          <td>495480</td>      <th>  BIC:               </th>  <td>2.658e+06</td> \n",
              "</tr>\n",
              "<tr>\n",
              "  <th>Df Model:</th>              <td>     1</td>      <th>                     </th>      <td> </td>     \n",
              "</tr>\n",
              "<tr>\n",
              "  <th>Covariance Type:</th>      <td>nonrobust</td>    <th>                     </th>      <td> </td>     \n",
              "</tr>\n",
              "</table>\n",
              "<table class=\"simpletable\">\n",
              "<tr>\n",
              "      <td></td>         <th>coef</th>     <th>std err</th>      <th>t</th>      <th>P>|t|</th>  <th>[0.025</th>    <th>0.975]</th>  \n",
              "</tr>\n",
              "<tr>\n",
              "  <th>Intercept</th> <td>   -0.0134</td> <td>    0.004</td> <td>   -3.748</td> <td> 0.000</td> <td>   -0.020</td> <td>   -0.006</td>\n",
              "</tr>\n",
              "<tr>\n",
              "  <th>x</th>         <td>    0.0085</td> <td>    0.000</td> <td>   33.042</td> <td> 0.000</td> <td>    0.008</td> <td>    0.009</td>\n",
              "</tr>\n",
              "</table>\n",
              "<table class=\"simpletable\">\n",
              "<tr>\n",
              "  <th>Omnibus:</th>       <td>3272974.757</td> <th>  Durbin-Watson:     </th>       <td>   1.943</td>      \n",
              "</tr>\n",
              "<tr>\n",
              "  <th>Prob(Omnibus):</th>   <td> 0.000</td>    <th>  Jarque-Bera (JB):  </th> <td>3518903333997240.000</td>\n",
              "</tr>\n",
              "<tr>\n",
              "  <th>Skew:</th>            <td>618.214</td>   <th>  Prob(JB):          </th>       <td>    0.00</td>      \n",
              "</tr>\n",
              "<tr>\n",
              "  <th>Kurtosis:</th>      <td>412854.057</td>  <th>  Cond. No.          </th>       <td>    14.0</td>      \n",
              "</tr>\n",
              "</table><br/><br/>Notes:<br/>[1] Standard Errors assume that the covariance matrix of the errors is correctly specified."
            ]
          },
          "metadata": {},
          "execution_count": 45
        }
      ]
    },
    {
      "cell_type": "markdown",
      "source": [
        "We see that the $R^2$ metrics for $y \\sim x_0$ is 0.009, while that for $y \\sim x$ is only 0.002. The t-stat of the coefficient for $y \\sim x_0$ is 67.285, while that for $y \\sim x$ is only 33.042. Therefore, the learnt LSTM model actually does not perform better in a statistically significant degree. We now plot *vlm_pred* and *volume* together to see what happened."
      ],
      "metadata": {
        "id": "c2sgWnGn3JX0"
      }
    },
    {
      "cell_type": "code",
      "source": [
        "plt.plot(test_data_with_pred['volume'].loc['ZTS'].to_numpy()[:100], label='volume(groundtruth)')\n",
        "plt.plot(test_data_with_pred['vlm_pred'].loc['ZTS'].to_numpy()[0:100], label='vlm_pred')\n",
        "plt.xlabel('date')\n",
        "plt.ylabel('volume')\n",
        "plt.legend()\n",
        "plt.title('vlm_pred and volume comparison')"
      ],
      "metadata": {
        "id": "q-wbcNa9GbA6",
        "colab": {
          "base_uri": "https://localhost:8080/",
          "height": 313
        },
        "outputId": "ba5dc123-9b1e-43f4-98a6-682b8cbd04ab"
      },
      "execution_count": 46,
      "outputs": [
        {
          "output_type": "execute_result",
          "data": {
            "text/plain": [
              "Text(0.5, 1.0, 'vlm_pred and volume comparison')"
            ]
          },
          "metadata": {},
          "execution_count": 46
        },
        {
          "output_type": "display_data",
          "data": {
            "text/plain": [
              "<Figure size 432x288 with 1 Axes>"
            ],
            "image/png": "[encoded data removed]"
          },
          "metadata": {
            "needs_background": "light"
          }
        }
      ]
    },
    {
      "cell_type": "markdown",
      "source": [
        "We see that the predicted curve by LSTM still looks like a right shift of the groundtruth curve, even with some rescaling and fluctuations. After searching on the Internet, I know that this is the key disadvantage of using LSTM or other RNN-based deep learning models for stock prediction. Due to the overfitting, the model is always learning a right-shift effect. In order to better predict stock volumes, we still need to search a more appropriate model. Maybe we can try to use Conv-LSTM model, which means doing one-dimensional convolution before feeding the features into LSTM layers. Also, we can try some dimensionality reduction methods including principal component analysis (PCA). These can be further investigated in the following work."
      ],
      "metadata": {
        "id": "_HUfedIu7Wz4"
      }
    }
  ],
  "metadata": {
    "colab": {
      "collapsed_sections": [],
      "provenance": [],
      "machine_shape": "hm"
    },
    "kernelspec": {
      "display_name": "Python 3",
      "name": "python3"
    },
    "language_info": {
      "name": "python"
    },
    "accelerator": "GPU",
    "gpuClass": "standard"
  },
  "nbformat": 4,
  "nbformat_minor": 0
}